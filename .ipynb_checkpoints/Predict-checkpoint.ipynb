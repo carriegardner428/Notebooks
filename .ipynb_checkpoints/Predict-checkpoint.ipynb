{
 "cells": [
  {
   "cell_type": "markdown",
   "metadata": {},
   "source": [
    "# Predict"
   ]
  },
  {
   "cell_type": "code",
   "execution_count": 6,
   "metadata": {},
   "outputs": [],
   "source": [
    "import numpy as np\n",
    "import pandas as pd\n",
    "\n",
    "from sklearn import linear_model\n",
    "from sklearn import naive_bayes\n",
    "from sklearn import ensemble\n",
    "\n",
    "from sklearn import model_selection"
   ]
  },
  {
   "cell_type": "code",
   "execution_count": 2,
   "metadata": {},
   "outputs": [],
   "source": [
    "random_state = 42"
   ]
  },
  {
   "cell_type": "code",
   "execution_count": 3,
   "metadata": {},
   "outputs": [],
   "source": [
    "X = pd.read_csv('data/train-cleaned.csv')\n",
    "y = X.pop('y')"
   ]
  },
  {
   "cell_type": "code",
   "execution_count": 4,
   "metadata": {},
   "outputs": [],
   "source": [
    "X_train, X_test, y_train, y_test = model_selection.train_test_split(X, y, random_state=random_state)"
   ]
  },
  {
   "cell_type": "code",
   "execution_count": 21,
   "metadata": {},
   "outputs": [],
   "source": [
    "classifiers = [ensemble.RandomForestClassifier(n_estimators=5),\n",
    "               naive_bayes.GaussianNB(), \n",
    "               linear_model.LogisticRegression(solver='sag', max_iter=100000)]\n",
    "clf_names = ['RandomForest', 'GaussianNB', 'Logistic Regression']\n",
    "metrics = ['f1', 'roc_auc', 'average_precision', 'accuracy', 'precision', 'recall']"
   ]
  },
  {
   "cell_type": "code",
   "execution_count": null,
   "metadata": {},
   "outputs": [
    {
     "name": "stdout",
     "output_type": "stream",
     "text": [
      "clf:  RandomForestClassifier(bootstrap=True, class_weight=None, criterion='gini',\n",
      "            max_depth=None, max_features='auto', max_leaf_nodes=None,\n",
      "            min_impurity_decrease=0.0, min_impurity_split=None,\n",
      "            min_samples_leaf=1, min_samples_split=2,\n",
      "            min_weight_fraction_leaf=0.0, n_estimators=5, n_jobs=None,\n",
      "            oob_score=False, random_state=None, verbose=0,\n",
      "            warm_start=False)\n",
      "f1 score: 0.5160562534501788\n",
      "roc_auc score: 0.8118602143957748\n",
      "average_precision score: 0.531339120005106\n",
      "accuracy score: 0.7720328751254494\n",
      "precision score: 0.6317616596786072\n",
      "recall score: 0.4350970688998858\n",
      "clf:  GaussianNB(priors=None, var_smoothing=1e-09)\n",
      "f1 score: 0.6035064018091153\n",
      "roc_auc score: 0.8888502635640161\n",
      "average_precision score: 0.719803024155512\n",
      "accuracy score: 0.8680069564821351\n",
      "precision score: 0.7613209525232875\n",
      "recall score: 0.5008247684304022\n",
      "clf:  LogisticRegression(C=1.0, class_weight=None, dual=False, fit_intercept=True,\n",
      "          intercept_scaling=1, max_iter=100000, multi_class='warn',\n",
      "          n_jobs=None, penalty='l2', random_state=None, solver='sag',\n",
      "          tol=0.0001, verbose=0, warm_start=False)\n",
      "f1 score: 0.6235277628249901\n",
      "roc_auc score: 0.890686728198288\n",
      "average_precision score: 0.7533003058895108\n",
      "accuracy score: 0.8647418605596742\n"
     ]
    }
   ],
   "source": [
    "scv = model_selection.StratifiedKFold(n_splits=3)\n",
    "\n",
    "scores_df = pd.DataFrame(index=metrics, columns=clf_names)\n",
    "clf_scores = []\n",
    "for clf, name in zip(classifiers, clf_names):\n",
    "    print('clf: ', clf)\n",
    "    for metric in metrics:\n",
    "        score = model_selection.cross_val_score(clf, X, y, scoring=metric, cv=scv).mean()\n",
    "        clf_scores.append(score)\n",
    "        print('{} score: {}'.format(metric, score))\n",
    "    scores_df[name] = clf_scores\n",
    "    clf_scores = []"
   ]
  },
  {
   "cell_type": "code",
   "execution_count": 20,
   "metadata": {},
   "outputs": [
    {
     "data": {
      "text/html": [
       "<div>\n",
       "<style scoped>\n",
       "    .dataframe tbody tr th:only-of-type {\n",
       "        vertical-align: middle;\n",
       "    }\n",
       "\n",
       "    .dataframe tbody tr th {\n",
       "        vertical-align: top;\n",
       "    }\n",
       "\n",
       "    .dataframe thead th {\n",
       "        text-align: right;\n",
       "    }\n",
       "</style>\n",
       "<table border=\"1\" class=\"dataframe\">\n",
       "  <thead>\n",
       "    <tr style=\"text-align: right;\">\n",
       "      <th></th>\n",
       "      <th>RandomForest</th>\n",
       "      <th>GaussianNB</th>\n",
       "      <th>Logistic Regression</th>\n",
       "    </tr>\n",
       "  </thead>\n",
       "  <tbody>\n",
       "    <tr>\n",
       "      <th>f1</th>\n",
       "      <td>0.492553</td>\n",
       "      <td>0.603506</td>\n",
       "      <td>0.566445</td>\n",
       "    </tr>\n",
       "    <tr>\n",
       "      <th>roc_auc</th>\n",
       "      <td>0.794817</td>\n",
       "      <td>0.888850</td>\n",
       "      <td>0.872605</td>\n",
       "    </tr>\n",
       "    <tr>\n",
       "      <th>average_precision</th>\n",
       "      <td>0.535125</td>\n",
       "      <td>0.719803</td>\n",
       "      <td>0.718139</td>\n",
       "    </tr>\n",
       "    <tr>\n",
       "      <th>accuracy</th>\n",
       "      <td>0.841271</td>\n",
       "      <td>0.868007</td>\n",
       "      <td>0.851782</td>\n",
       "    </tr>\n",
       "    <tr>\n",
       "      <th>precision</th>\n",
       "      <td>0.693799</td>\n",
       "      <td>0.761321</td>\n",
       "      <td>0.742465</td>\n",
       "    </tr>\n",
       "    <tr>\n",
       "      <th>recall</th>\n",
       "      <td>0.400837</td>\n",
       "      <td>0.500825</td>\n",
       "      <td>0.520112</td>\n",
       "    </tr>\n",
       "  </tbody>\n",
       "</table>\n",
       "</div>"
      ],
      "text/plain": [
       "                   RandomForest  GaussianNB  Logistic Regression\n",
       "f1                     0.492553    0.603506             0.566445\n",
       "roc_auc                0.794817    0.888850             0.872605\n",
       "average_precision      0.535125    0.719803             0.718139\n",
       "accuracy               0.841271    0.868007             0.851782\n",
       "precision              0.693799    0.761321             0.742465\n",
       "recall                 0.400837    0.500825             0.520112"
      ]
     },
     "execution_count": 20,
     "metadata": {},
     "output_type": "execute_result"
    }
   ],
   "source": [
    "scores_df"
   ]
  },
  {
   "cell_type": "markdown",
   "metadata": {},
   "source": [
    "## Clean Test Dataset"
   ]
  },
  {
   "cell_type": "code",
   "execution_count": null,
   "metadata": {},
   "outputs": [],
   "source": [
    "test = pd.read_csv('data/exercise_01_test.csv')"
   ]
  }
 ],
 "metadata": {
  "kernelspec": {
   "display_name": "Python [conda env:mlbook]",
   "language": "python",
   "name": "conda-env-mlbook-py"
  },
  "language_info": {
   "codemirror_mode": {
    "name": "ipython",
    "version": 3
   },
   "file_extension": ".py",
   "mimetype": "text/x-python",
   "name": "python",
   "nbconvert_exporter": "python",
   "pygments_lexer": "ipython3",
   "version": "3.5.3"
  }
 },
 "nbformat": 4,
 "nbformat_minor": 2
}
