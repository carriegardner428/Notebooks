{
 "cells": [
  {
   "cell_type": "markdown",
   "metadata": {},
   "source": [
    "# Model 1"
   ]
  },
  {
   "cell_type": "markdown",
   "metadata": {},
   "source": [
    "For the first model, let's pick a scikit-learn machine learning algorithm to model the data."
   ]
  },
  {
   "cell_type": "code",
   "execution_count": 69,
   "metadata": {},
   "outputs": [
    {
     "data": {
      "text/html": [
       "<script type=\"text/javascript\">window.PlotlyConfig = {MathJaxConfig: 'local'};</script><script type=\"text/javascript\">if (window.MathJax) {MathJax.Hub.Config({SVG: {font: \"STIX-Web\"}});}</script><script>requirejs.config({paths: { 'plotly': ['https://cdn.plot.ly/plotly-latest.min']},});if(!window._Plotly) {require(['plotly'],function(plotly) {window._Plotly=plotly;});}</script>"
      ],
      "text/vnd.plotly.v1+html": [
       "<script type=\"text/javascript\">window.PlotlyConfig = {MathJaxConfig: 'local'};</script><script type=\"text/javascript\">if (window.MathJax) {MathJax.Hub.Config({SVG: {font: \"STIX-Web\"}});}</script><script>requirejs.config({paths: { 'plotly': ['https://cdn.plot.ly/plotly-latest.min']},});if(!window._Plotly) {require(['plotly'],function(plotly) {window._Plotly=plotly;});}</script>"
      ]
     },
     "metadata": {},
     "output_type": "display_data"
    }
   ],
   "source": [
    "import numpy as np\n",
    "import pandas as pd\n",
    "\n",
    "import sklearn\n",
    "from sklearn import linear_model\n",
    "from sklearn import naive_bayes\n",
    "from sklearn import ensemble\n",
    "\n",
    "from sklearn import metrics\n",
    "from sklearn import model_selection\n",
    "from sklearn.externals import joblib\n",
    "\n",
    "random_state = 42\n",
    "\n",
    "# plots\n",
    "import plotly\n",
    "import plotly.io as pio\n",
    "import plotly.figure_factory as ff\n",
    "from plotly.offline import init_notebook_mode, iplot\n",
    "import plotly.graph_objs as go\n",
    "\n",
    "init_notebook_mode(connected=True)\n",
    "\n",
    "plt_filepath = 'plots/Model-1/'"
   ]
  },
  {
   "cell_type": "code",
   "execution_count": 70,
   "metadata": {},
   "outputs": [
    {
     "name": "stdout",
     "output_type": "stream",
     "text": [
      "numpy version: 1.16.2\n",
      "pandas version: 0.24.1\n",
      "sklearn version: 0.20.0\n",
      "plotly version: 3.6.1\n"
     ]
    }
   ],
   "source": [
    "print('numpy version: {}'.format(np.__version__))\n",
    "print('pandas version: {}'.format(pd.__version__))\n",
    "print('sklearn version: {}'.format(sklearn.__version__))\n",
    "print('plotly version: {}'.format(plotly.__version__))"
   ]
  },
  {
   "cell_type": "code",
   "execution_count": 5,
   "metadata": {},
   "outputs": [],
   "source": [
    "X = np.loadtxt(\"data/train.csv\", delimiter=\",\", skiprows=1) # skip first row which is the column labels \n",
    "y = np.loadtxt(\"data/train_y.csv\", delimiter=\",\", skiprows=0)"
   ]
  },
  {
   "cell_type": "code",
   "execution_count": 6,
   "metadata": {},
   "outputs": [
    {
     "data": {
      "text/plain": [
       "(39232, 133)"
      ]
     },
     "execution_count": 6,
     "metadata": {},
     "output_type": "execute_result"
    }
   ],
   "source": [
    "X.shape"
   ]
  },
  {
   "cell_type": "code",
   "execution_count": 7,
   "metadata": {},
   "outputs": [
    {
     "data": {
      "text/plain": [
       "(39232,)"
      ]
     },
     "execution_count": 7,
     "metadata": {},
     "output_type": "execute_result"
    }
   ],
   "source": [
    "y.shape"
   ]
  },
  {
   "cell_type": "code",
   "execution_count": 12,
   "metadata": {},
   "outputs": [],
   "source": [
    "X_train, X_test, y_train, y_test = model_selection.train_test_split(X, y, random_state=42)"
   ]
  },
  {
   "cell_type": "markdown",
   "metadata": {},
   "source": [
    "## Baseline Models"
   ]
  },
  {
   "cell_type": "code",
   "execution_count": 8,
   "metadata": {},
   "outputs": [],
   "source": [
    "classifiers = [ensemble.RandomForestClassifier(n_estimators=5),\n",
    "               naive_bayes.GaussianNB(), \n",
    "               linear_model.LogisticRegression(solver='liblinear')]\n",
    "clf_names = ['RandomForest', 'GaussianNB', 'Logistic Regression']\n",
    "metric_names = ['roc_auc', 'f1', 'accuracy', 'precision', 'recall']"
   ]
  },
  {
   "cell_type": "code",
   "execution_count": 9,
   "metadata": {},
   "outputs": [
    {
     "name": "stdout",
     "output_type": "stream",
     "text": [
      "clf:  RandomForestClassifier(bootstrap=True, class_weight=None, criterion='gini',\n",
      "            max_depth=None, max_features='auto', max_leaf_nodes=None,\n",
      "            min_impurity_decrease=0.0, min_impurity_split=None,\n",
      "            min_samples_leaf=1, min_samples_split=2,\n",
      "            min_weight_fraction_leaf=0.0, n_estimators=5, n_jobs=None,\n",
      "            oob_score=False, random_state=None, verbose=0,\n",
      "            warm_start=False)\n",
      "roc_auc score: 0.826777453222995\n",
      "f1 score: 0.5272594229907263\n",
      "accuracy score: 0.8533085812862077\n",
      "precision score: 0.7472880335986997\n",
      "recall score: 0.409892953338818\n",
      "clf:  GaussianNB(priors=None, var_smoothing=1e-09)\n",
      "roc_auc score: 0.8326694053407918\n",
      "f1 score: 0.35836153909972596\n",
      "accuracy score: 0.8010554563104372\n",
      "precision score: 0.5096717631102043\n",
      "recall score: 0.27660134328902597\n",
      "clf:  LogisticRegression(C=1.0, class_weight=None, dual=False, fit_intercept=True,\n",
      "          intercept_scaling=1, max_iter=100, multi_class='warn',\n",
      "          n_jobs=None, penalty='l2', random_state=None, solver='liblinear',\n",
      "          tol=0.0001, verbose=0, warm_start=False)\n",
      "roc_auc score: 0.9073121179762232\n",
      "f1 score: 0.6947641134299903\n",
      "accuracy score: 0.8916700969470382\n",
      "precision score: 0.8011609083621343\n",
      "recall score: 0.6134421245758439\n"
     ]
    }
   ],
   "source": [
    "scv = model_selection.StratifiedKFold(n_splits=3)\n",
    "\n",
    "scores_df = pd.DataFrame(index=metric_names, columns=clf_names)\n",
    "clf_scores = []\n",
    "for clf, name in zip(classifiers, clf_names):\n",
    "    print('clf: ', clf)\n",
    "    for metric in metric_names:\n",
    "        score = model_selection.cross_val_score(clf, X, y, scoring=metric, cv=scv).mean()\n",
    "        clf_scores.append(score)\n",
    "        print('{} score: {}'.format(metric, score))\n",
    "    scores_df[name] = clf_scores\n",
    "    clf_scores = []"
   ]
  },
  {
   "cell_type": "code",
   "execution_count": 10,
   "metadata": {},
   "outputs": [
    {
     "data": {
      "text/html": [
       "<div>\n",
       "<style scoped>\n",
       "    .dataframe tbody tr th:only-of-type {\n",
       "        vertical-align: middle;\n",
       "    }\n",
       "\n",
       "    .dataframe tbody tr th {\n",
       "        vertical-align: top;\n",
       "    }\n",
       "\n",
       "    .dataframe thead th {\n",
       "        text-align: right;\n",
       "    }\n",
       "</style>\n",
       "<table border=\"1\" class=\"dataframe\">\n",
       "  <thead>\n",
       "    <tr style=\"text-align: right;\">\n",
       "      <th></th>\n",
       "      <th>RandomForest</th>\n",
       "      <th>GaussianNB</th>\n",
       "      <th>Logistic Regression</th>\n",
       "    </tr>\n",
       "  </thead>\n",
       "  <tbody>\n",
       "    <tr>\n",
       "      <th>roc_auc</th>\n",
       "      <td>0.826777</td>\n",
       "      <td>0.832669</td>\n",
       "      <td>0.907312</td>\n",
       "    </tr>\n",
       "    <tr>\n",
       "      <th>f1</th>\n",
       "      <td>0.527259</td>\n",
       "      <td>0.358362</td>\n",
       "      <td>0.694764</td>\n",
       "    </tr>\n",
       "    <tr>\n",
       "      <th>accuracy</th>\n",
       "      <td>0.853309</td>\n",
       "      <td>0.801055</td>\n",
       "      <td>0.891670</td>\n",
       "    </tr>\n",
       "    <tr>\n",
       "      <th>precision</th>\n",
       "      <td>0.747288</td>\n",
       "      <td>0.509672</td>\n",
       "      <td>0.801161</td>\n",
       "    </tr>\n",
       "    <tr>\n",
       "      <th>recall</th>\n",
       "      <td>0.409893</td>\n",
       "      <td>0.276601</td>\n",
       "      <td>0.613442</td>\n",
       "    </tr>\n",
       "  </tbody>\n",
       "</table>\n",
       "</div>"
      ],
      "text/plain": [
       "           RandomForest  GaussianNB  Logistic Regression\n",
       "roc_auc        0.826777    0.832669             0.907312\n",
       "f1             0.527259    0.358362             0.694764\n",
       "accuracy       0.853309    0.801055             0.891670\n",
       "precision      0.747288    0.509672             0.801161\n",
       "recall         0.409893    0.276601             0.613442"
      ]
     },
     "execution_count": 10,
     "metadata": {},
     "output_type": "execute_result"
    }
   ],
   "source": [
    "scores_df"
   ]
  },
  {
   "cell_type": "markdown",
   "metadata": {},
   "source": [
    "Great, so without tuning, we see that both the Gaussian Naive Bayes and Logistic Regression models have a strong performance.  Maybe we can increase the performance of the Random Forest model with parameter tuning."
   ]
  },
  {
   "cell_type": "markdown",
   "metadata": {},
   "source": [
    "**Random Forest**\n",
    "\n"
   ]
  },
  {
   "cell_type": "markdown",
   "metadata": {},
   "source": [
    "**Gaussian Naive Bayes**"
   ]
  },
  {
   "cell_type": "markdown",
   "metadata": {},
   "source": [
    "**Logistic Regression**"
   ]
  },
  {
   "cell_type": "markdown",
   "metadata": {},
   "source": [
    "## Paramater Tuning & Model Building"
   ]
  },
  {
   "cell_type": "markdown",
   "metadata": {},
   "source": [
    "Let's perform grid search on the two models - Random Forest and Logistic Regression. Gaussian Naive Bayes is a simple model and there are not hyperparameters to tune"
   ]
  },
  {
   "cell_type": "markdown",
   "metadata": {},
   "source": [
    "### Random Forest"
   ]
  },
  {
   "cell_type": "code",
   "execution_count": 14,
   "metadata": {},
   "outputs": [],
   "source": [
    "rf = ensemble.RandomForestClassifier(n_estimators=5)\n",
    "clf_rf = rf.fit(X_train, y_train)"
   ]
  },
  {
   "cell_type": "code",
   "execution_count": 15,
   "metadata": {},
   "outputs": [],
   "source": [
    "y_pred_labels = clf_rf.predict(X_test)"
   ]
  },
  {
   "cell_type": "code",
   "execution_count": 16,
   "metadata": {},
   "outputs": [
    {
     "data": {
      "text/plain": [
       "array([0., 0., 0., ..., 0., 0., 0.])"
      ]
     },
     "execution_count": 16,
     "metadata": {},
     "output_type": "execute_result"
    }
   ],
   "source": [
    "y_pred_labels"
   ]
  },
  {
   "cell_type": "code",
   "execution_count": 17,
   "metadata": {},
   "outputs": [],
   "source": [
    "y_pred = clf_rf.predict_proba(X_test)"
   ]
  },
  {
   "cell_type": "code",
   "execution_count": 18,
   "metadata": {},
   "outputs": [
    {
     "data": {
      "text/plain": [
       "array([[1. , 0. ],\n",
       "       [1. , 0. ],\n",
       "       [1. , 0. ],\n",
       "       ...,\n",
       "       [1. , 0. ],\n",
       "       [1. , 0. ],\n",
       "       [0.8, 0.2]])"
      ]
     },
     "execution_count": 18,
     "metadata": {},
     "output_type": "execute_result"
    }
   ],
   "source": [
    "y_pred"
   ]
  },
  {
   "cell_type": "code",
   "execution_count": 19,
   "metadata": {},
   "outputs": [
    {
     "data": {
      "text/plain": [
       "9808"
      ]
     },
     "execution_count": 19,
     "metadata": {},
     "output_type": "execute_result"
    }
   ],
   "source": [
    "X_test.shape[0]"
   ]
  },
  {
   "cell_type": "code",
   "execution_count": 20,
   "metadata": {},
   "outputs": [
    {
     "data": {
      "text/plain": [
       "array([1., 0., 0., ..., 0., 0., 0.])"
      ]
     },
     "execution_count": 20,
     "metadata": {},
     "output_type": "execute_result"
    }
   ],
   "source": [
    "y_test"
   ]
  },
  {
   "cell_type": "code",
   "execution_count": 21,
   "metadata": {},
   "outputs": [
    {
     "name": "stdout",
     "output_type": "stream",
     "text": [
      "AUC\n"
     ]
    },
    {
     "data": {
      "text/plain": [
       "0.6828122491447818"
      ]
     },
     "execution_count": 21,
     "metadata": {},
     "output_type": "execute_result"
    }
   ],
   "source": [
    "print(\"AUC\")\n",
    "auc_score_rf = metrics.roc_auc_score(y_test, y_pred_labels)\n",
    "auc_score_rf"
   ]
  },
  {
   "cell_type": "code",
   "execution_count": 22,
   "metadata": {},
   "outputs": [
    {
     "name": "stdout",
     "output_type": "stream",
     "text": [
      "              precision    recall  f1-score   support\n",
      "\n",
      "         0.0       0.87      0.97      0.92      7901\n",
      "         1.0       0.75      0.40      0.52      1907\n",
      "\n",
      "   micro avg       0.86      0.86      0.86      9808\n",
      "   macro avg       0.81      0.68      0.72      9808\n",
      "weighted avg       0.85      0.86      0.84      9808\n",
      "\n"
     ]
    }
   ],
   "source": [
    "print(metrics.classification_report(y_test, y_pred_labels))"
   ]
  },
  {
   "cell_type": "code",
   "execution_count": 23,
   "metadata": {},
   "outputs": [
    {
     "name": "stdout",
     "output_type": "stream",
     "text": [
      "Accuracy\n"
     ]
    },
    {
     "data": {
      "text/plain": [
       "0.8565456769983687"
      ]
     },
     "execution_count": 23,
     "metadata": {},
     "output_type": "execute_result"
    }
   ],
   "source": [
    "print(\"Accuracy\")\n",
    "accuracy = metrics.accuracy_score(y_test, y_pred_labels)\n",
    "accuracy"
   ]
  },
  {
   "cell_type": "code",
   "execution_count": 24,
   "metadata": {},
   "outputs": [],
   "source": [
    "fpr_rf, tpr_rf, thresholds_rf = metrics.roc_curve(y_test, y_pred_labels)"
   ]
  },
  {
   "cell_type": "code",
   "execution_count": 25,
   "metadata": {},
   "outputs": [
    {
     "data": {
      "application/vnd.plotly.v1+json": {
       "config": {
        "linkText": "Export to plot.ly",
        "plotlyServerURL": "https://plot.ly",
        "showLink": false
       },
       "data": [
        {
         "line": {
          "color": "darkorange",
          "width": 2
         },
         "mode": "markers+lines",
         "name": "ROC Curve, (area = 0.6828122491447818)",
         "type": "scatter",
         "uid": "a772c2ff-d351-47de-9243-5d2440a17f7c",
         "x": [
          0,
          0.03290722693329958,
          1
         ],
         "y": [
          0,
          0.3985317252228631,
          1
         ]
        },
        {
         "line": {
          "color": "navy",
          "dash": "dash",
          "width": 2
         },
         "mode": "lines",
         "showlegend": false,
         "type": "scatter",
         "uid": "1a8cd4fc-5300-4c4e-8f25-017feefcd1dc",
         "x": [
          0,
          1
         ],
         "y": [
          0,
          1
         ]
        }
       ],
       "layout": {
        "autosize": true,
        "title": {
         "text": "ROC Curve: Random Forest"
        },
        "xaxis": {
         "autorange": true,
         "range": [
          -0.06118314424635331,
          1.0611831442463533
         ],
         "type": "linear"
        },
        "yaxis": {
         "autorange": true,
         "range": [
          -0.0732484076433121,
          1.0732484076433122
         ],
         "type": "linear"
        }
       }
      },
      "text/html": [
       "<div id=\"3fb126cf-403d-47e5-84d1-a4b8bfd9f25e\" style=\"height: 525px; width: 100%;\" class=\"plotly-graph-div\"></div><script type=\"text/javascript\">require([\"plotly\"], function(Plotly) { window.PLOTLYENV=window.PLOTLYENV || {};window.PLOTLYENV.BASE_URL=\"https://plot.ly\";Plotly.newPlot(\"3fb126cf-403d-47e5-84d1-a4b8bfd9f25e\", [{\"x\": [0.0, 0.03290722693329958, 1.0], \"uid\": \"a772c2ff-d351-47de-9243-5d2440a17f7c\", \"type\": \"scatter\", \"mode\": \"markers+lines\", \"y\": [0.0, 0.3985317252228631, 1.0], \"name\": \"ROC Curve, (area = 0.6828122491447818)\", \"line\": {\"color\": \"darkorange\", \"width\": 2}}, {\"x\": [0, 1], \"uid\": \"1a8cd4fc-5300-4c4e-8f25-017feefcd1dc\", \"type\": \"scatter\", \"mode\": \"lines\", \"y\": [0, 1], \"showlegend\": false, \"line\": {\"color\": \"navy\", \"dash\": \"dash\", \"width\": 2}}], {\"title\": {\"text\": \"ROC Curve: Random Forest\"}}, {\"linkText\": \"Export to plot.ly\", \"plotlyServerURL\": \"https://plot.ly\", \"showLink\": false})});</script><script type=\"text/javascript\">window.addEventListener(\"resize\", function(){window._Plotly.Plots.resize(document.getElementById(\"3fb126cf-403d-47e5-84d1-a4b8bfd9f25e\"));});</script>"
      ],
      "text/vnd.plotly.v1+html": [
       "<div id=\"3fb126cf-403d-47e5-84d1-a4b8bfd9f25e\" style=\"height: 525px; width: 100%;\" class=\"plotly-graph-div\"></div><script type=\"text/javascript\">require([\"plotly\"], function(Plotly) { window.PLOTLYENV=window.PLOTLYENV || {};window.PLOTLYENV.BASE_URL=\"https://plot.ly\";Plotly.newPlot(\"3fb126cf-403d-47e5-84d1-a4b8bfd9f25e\", [{\"x\": [0.0, 0.03290722693329958, 1.0], \"uid\": \"a772c2ff-d351-47de-9243-5d2440a17f7c\", \"type\": \"scatter\", \"mode\": \"markers+lines\", \"y\": [0.0, 0.3985317252228631, 1.0], \"name\": \"ROC Curve, (area = 0.6828122491447818)\", \"line\": {\"color\": \"darkorange\", \"width\": 2}}, {\"x\": [0, 1], \"uid\": \"1a8cd4fc-5300-4c4e-8f25-017feefcd1dc\", \"type\": \"scatter\", \"mode\": \"lines\", \"y\": [0, 1], \"showlegend\": false, \"line\": {\"color\": \"navy\", \"dash\": \"dash\", \"width\": 2}}], {\"title\": {\"text\": \"ROC Curve: Random Forest\"}}, {\"linkText\": \"Export to plot.ly\", \"plotlyServerURL\": \"https://plot.ly\", \"showLink\": false})});</script><script type=\"text/javascript\">window.addEventListener(\"resize\", function(){window._Plotly.Plots.resize(document.getElementById(\"3fb126cf-403d-47e5-84d1-a4b8bfd9f25e\"));});</script>"
      ]
     },
     "metadata": {},
     "output_type": "display_data"
    }
   ],
   "source": [
    "# predicted y probabilties\n",
    "trace0 = go.Scatter(\n",
    "    x = fpr_rf,\n",
    "    y = tpr_rf,\n",
    "    mode = 'markers+lines',\n",
    "    line=dict(color='darkorange', width=2),\n",
    "    name = 'ROC Curve, (area = {})'.format(auc_score_rf)\n",
    ")\n",
    "\n",
    "trace1 = go.Scatter(\n",
    "    x=[0, 1], y=[0, 1], \n",
    "    mode='lines', \n",
    "    line=dict(color='navy', width=2, dash='dash'),\n",
    "    showlegend=False)\n",
    "\n",
    "data = [trace0, trace1]\n",
    "\n",
    "title = 'ROC Curve: Random Forest'\n",
    "fig = go.Figure(data=data, layout = {'title':title})\n",
    "\n",
    "iplot(fig)\n",
    "pio.write_image(fig, plt_filepath+title+'.png')"
   ]
  },
  {
   "cell_type": "markdown",
   "metadata": {},
   "source": [
    "### Naive Bayes"
   ]
  },
  {
   "cell_type": "code",
   "execution_count": 26,
   "metadata": {},
   "outputs": [],
   "source": [
    "nb = naive_bayes.GaussianNB()\n",
    "nb.fit(X_train, y_train)\n",
    "\n",
    "y_pred = nb.predict(X_test)"
   ]
  },
  {
   "cell_type": "code",
   "execution_count": 27,
   "metadata": {},
   "outputs": [
    {
     "data": {
      "text/plain": [
       "array([0., 0., 0., ..., 0., 1., 0.])"
      ]
     },
     "execution_count": 27,
     "metadata": {},
     "output_type": "execute_result"
    }
   ],
   "source": [
    "y_train"
   ]
  },
  {
   "cell_type": "code",
   "execution_count": 28,
   "metadata": {},
   "outputs": [
    {
     "name": "stdout",
     "output_type": "stream",
     "text": [
      "AUC\n"
     ]
    },
    {
     "data": {
      "text/plain": [
       "0.5881804106096107"
      ]
     },
     "execution_count": 28,
     "metadata": {},
     "output_type": "execute_result"
    }
   ],
   "source": [
    "print(\"AUC\")\n",
    "auc_score_nb = metrics.roc_auc_score(y_test, y_pred)\n",
    "auc_score_nb"
   ]
  },
  {
   "cell_type": "code",
   "execution_count": 29,
   "metadata": {},
   "outputs": [
    {
     "name": "stdout",
     "output_type": "stream",
     "text": [
      "              precision    recall  f1-score   support\n",
      "\n",
      "         0.0       0.84      0.93      0.88      7901\n",
      "         1.0       0.46      0.25      0.32      1907\n",
      "\n",
      "   micro avg       0.80      0.80      0.80      9808\n",
      "   macro avg       0.65      0.59      0.60      9808\n",
      "weighted avg       0.76      0.80      0.77      9808\n",
      "\n"
     ]
    }
   ],
   "source": [
    "print(metrics.classification_report(y_test, y_pred))"
   ]
  },
  {
   "cell_type": "code",
   "execution_count": 30,
   "metadata": {},
   "outputs": [
    {
     "name": "stdout",
     "output_type": "stream",
     "text": [
      "Accuracy\n"
     ]
    },
    {
     "data": {
      "text/plain": [
       "0.7966965742251223"
      ]
     },
     "execution_count": 30,
     "metadata": {},
     "output_type": "execute_result"
    }
   ],
   "source": [
    "print(\"Accuracy\")\n",
    "accuracy = metrics.accuracy_score(y_test, y_pred)\n",
    "accuracy"
   ]
  },
  {
   "cell_type": "code",
   "execution_count": 31,
   "metadata": {},
   "outputs": [],
   "source": [
    "fpr_nb, tpr_nb, thresholds_nb = metrics.roc_curve(y_test, y_pred)"
   ]
  },
  {
   "cell_type": "code",
   "execution_count": 32,
   "metadata": {},
   "outputs": [
    {
     "data": {
      "application/vnd.plotly.v1+json": {
       "config": {
        "linkText": "Export to plot.ly",
        "plotlyServerURL": "https://plot.ly",
        "showLink": false
       },
       "data": [
        {
         "line": {
          "color": "darkorange",
          "width": 2
         },
         "mode": "markers+lines",
         "name": "ROC Curve, (area = 0.5881804106096107)",
         "type": "scatter",
         "uid": "fe704d2f-b8d1-49ab-b64f-da2abe585faa",
         "x": [
          0,
          0.07062397164915833,
          1
         ],
         "y": [
          0,
          0.24698479286837965,
          1
         ]
        },
        {
         "line": {
          "color": "navy",
          "dash": "dash",
          "width": 2
         },
         "mode": "lines",
         "showlegend": false,
         "type": "scatter",
         "uid": "b3f34b9e-9859-4096-b44a-9a660783f13f",
         "x": [
          0,
          1
         ],
         "y": [
          0,
          1
         ]
        }
       ],
       "layout": {
        "autosize": true,
        "title": {
         "text": "ROC Curve: Naive Bayes"
        },
        "xaxis": {
         "autorange": true,
         "range": [
          -0.06118314424635331,
          1.0611831442463533
         ],
         "type": "linear"
        },
        "yaxis": {
         "autorange": true,
         "range": [
          -0.0732484076433121,
          1.0732484076433122
         ],
         "type": "linear"
        }
       }
      },
      "text/html": [
       "<div id=\"aff1260a-656e-408c-ac4d-e52592a229a8\" style=\"height: 525px; width: 100%;\" class=\"plotly-graph-div\"></div><script type=\"text/javascript\">require([\"plotly\"], function(Plotly) { window.PLOTLYENV=window.PLOTLYENV || {};window.PLOTLYENV.BASE_URL=\"https://plot.ly\";Plotly.newPlot(\"aff1260a-656e-408c-ac4d-e52592a229a8\", [{\"x\": [0.0, 0.07062397164915833, 1.0], \"uid\": \"fe704d2f-b8d1-49ab-b64f-da2abe585faa\", \"type\": \"scatter\", \"mode\": \"markers+lines\", \"y\": [0.0, 0.24698479286837965, 1.0], \"name\": \"ROC Curve, (area = 0.5881804106096107)\", \"line\": {\"color\": \"darkorange\", \"width\": 2}}, {\"x\": [0, 1], \"uid\": \"b3f34b9e-9859-4096-b44a-9a660783f13f\", \"type\": \"scatter\", \"mode\": \"lines\", \"y\": [0, 1], \"showlegend\": false, \"line\": {\"color\": \"navy\", \"dash\": \"dash\", \"width\": 2}}], {\"title\": {\"text\": \"ROC Curve: Naive Bayes\"}}, {\"linkText\": \"Export to plot.ly\", \"plotlyServerURL\": \"https://plot.ly\", \"showLink\": false})});</script><script type=\"text/javascript\">window.addEventListener(\"resize\", function(){window._Plotly.Plots.resize(document.getElementById(\"aff1260a-656e-408c-ac4d-e52592a229a8\"));});</script>"
      ],
      "text/vnd.plotly.v1+html": [
       "<div id=\"aff1260a-656e-408c-ac4d-e52592a229a8\" style=\"height: 525px; width: 100%;\" class=\"plotly-graph-div\"></div><script type=\"text/javascript\">require([\"plotly\"], function(Plotly) { window.PLOTLYENV=window.PLOTLYENV || {};window.PLOTLYENV.BASE_URL=\"https://plot.ly\";Plotly.newPlot(\"aff1260a-656e-408c-ac4d-e52592a229a8\", [{\"x\": [0.0, 0.07062397164915833, 1.0], \"uid\": \"fe704d2f-b8d1-49ab-b64f-da2abe585faa\", \"type\": \"scatter\", \"mode\": \"markers+lines\", \"y\": [0.0, 0.24698479286837965, 1.0], \"name\": \"ROC Curve, (area = 0.5881804106096107)\", \"line\": {\"color\": \"darkorange\", \"width\": 2}}, {\"x\": [0, 1], \"uid\": \"b3f34b9e-9859-4096-b44a-9a660783f13f\", \"type\": \"scatter\", \"mode\": \"lines\", \"y\": [0, 1], \"showlegend\": false, \"line\": {\"color\": \"navy\", \"dash\": \"dash\", \"width\": 2}}], {\"title\": {\"text\": \"ROC Curve: Naive Bayes\"}}, {\"linkText\": \"Export to plot.ly\", \"plotlyServerURL\": \"https://plot.ly\", \"showLink\": false})});</script><script type=\"text/javascript\">window.addEventListener(\"resize\", function(){window._Plotly.Plots.resize(document.getElementById(\"aff1260a-656e-408c-ac4d-e52592a229a8\"));});</script>"
      ]
     },
     "metadata": {},
     "output_type": "display_data"
    }
   ],
   "source": [
    "# predicted y probabilties\n",
    "trace0 = go.Scatter(\n",
    "    x = fpr_nb,\n",
    "    y = tpr_nb,\n",
    "    mode = 'markers+lines',\n",
    "    line=dict(color='darkorange', width=2),\n",
    "    name = 'ROC Curve, (area = {})'.format(auc_score_nb)\n",
    ")\n",
    "\n",
    "trace1 = go.Scatter(\n",
    "    x=[0, 1], y=[0, 1], \n",
    "    mode='lines', \n",
    "    line=dict(color='navy', width=2, dash='dash'),\n",
    "    showlegend=False)\n",
    "\n",
    "data = [trace0, trace1]\n",
    "\n",
    "title = 'ROC Curve: Naive Bayes'\n",
    "fig = go.Figure(data=data, layout = {'title':title})\n",
    "\n",
    "iplot(fig)\n",
    "pio.write_image(fig, plt_filepath+title+'.png')"
   ]
  },
  {
   "cell_type": "markdown",
   "metadata": {},
   "source": [
    "### Logistic Regression"
   ]
  },
  {
   "cell_type": "code",
   "execution_count": 33,
   "metadata": {},
   "outputs": [
    {
     "name": "stderr",
     "output_type": "stream",
     "text": [
      "/Users/carrie/anaconda/envs/mlbook/lib/python3.5/site-packages/sklearn/svm/base.py:922: ConvergenceWarning:\n",
      "\n",
      "Liblinear failed to converge, increase the number of iterations.\n",
      "\n",
      "/Users/carrie/anaconda/envs/mlbook/lib/python3.5/site-packages/sklearn/svm/base.py:922: ConvergenceWarning:\n",
      "\n",
      "Liblinear failed to converge, increase the number of iterations.\n",
      "\n"
     ]
    }
   ],
   "source": [
    "parameters = {\n",
    "              'penalty':['l1', 'l2'],\n",
    "              'C': np.logspace(0, 4, 10),\n",
    "             }\n",
    "\n",
    "lr = linear_model.LogisticRegression(solver='liblinear')\n",
    "\n",
    "clf = model_selection.GridSearchCV(lr, parameters, cv=5)\n",
    "clf_lr = clf.fit(X_train, y_train)"
   ]
  },
  {
   "cell_type": "code",
   "execution_count": 34,
   "metadata": {},
   "outputs": [
    {
     "name": "stdout",
     "output_type": "stream",
     "text": [
      "Best Penalty: l2\n",
      "Best C: 7.742636826811269\n"
     ]
    }
   ],
   "source": [
    "# Best hyperparameters\n",
    "print('Best Penalty:', clf_lr.best_estimator_.get_params()['penalty'])\n",
    "print('Best C:', clf_lr.best_estimator_.get_params()['C'])"
   ]
  },
  {
   "cell_type": "code",
   "execution_count": 35,
   "metadata": {},
   "outputs": [],
   "source": [
    "y_pred = clf_lr.predict(X_test)"
   ]
  },
  {
   "cell_type": "code",
   "execution_count": 36,
   "metadata": {},
   "outputs": [
    {
     "name": "stdout",
     "output_type": "stream",
     "text": [
      "AUC\n"
     ]
    },
    {
     "data": {
      "text/plain": [
       "0.7908537063305761"
      ]
     },
     "execution_count": 36,
     "metadata": {},
     "output_type": "execute_result"
    }
   ],
   "source": [
    "print(\"AUC\")\n",
    "auc_score_lr = metrics.roc_auc_score(y_test, y_pred)\n",
    "auc_score_lr"
   ]
  },
  {
   "cell_type": "code",
   "execution_count": 37,
   "metadata": {},
   "outputs": [
    {
     "name": "stdout",
     "output_type": "stream",
     "text": [
      "              precision    recall  f1-score   support\n",
      "\n",
      "         0.0       0.91      0.96      0.94      7901\n",
      "         1.0       0.78      0.62      0.69      1907\n",
      "\n",
      "   micro avg       0.89      0.89      0.89      9808\n",
      "   macro avg       0.85      0.79      0.82      9808\n",
      "weighted avg       0.89      0.89      0.89      9808\n",
      "\n"
     ]
    }
   ],
   "source": [
    "print(metrics.classification_report(y_test, y_pred))"
   ]
  },
  {
   "cell_type": "code",
   "execution_count": 38,
   "metadata": {},
   "outputs": [
    {
     "name": "stdout",
     "output_type": "stream",
     "text": [
      "Accuracy\n"
     ]
    },
    {
     "data": {
      "text/plain": [
       "0.8934543230016313"
      ]
     },
     "execution_count": 38,
     "metadata": {},
     "output_type": "execute_result"
    }
   ],
   "source": [
    "print(\"Accuracy\")\n",
    "accuracy = metrics.accuracy_score(y_test, y_pred)\n",
    "accuracy"
   ]
  },
  {
   "cell_type": "code",
   "execution_count": 39,
   "metadata": {},
   "outputs": [],
   "source": [
    "fpr_lr, tpr_lr, thresholds_lr = metrics.roc_curve(y_test, y_pred)"
   ]
  },
  {
   "cell_type": "code",
   "execution_count": 40,
   "metadata": {},
   "outputs": [
    {
     "data": {
      "text/plain": [
       "array([1., 0., 0., ..., 0., 0., 0.])"
      ]
     },
     "execution_count": 40,
     "metadata": {},
     "output_type": "execute_result"
    }
   ],
   "source": [
    "y_test"
   ]
  },
  {
   "cell_type": "code",
   "execution_count": 41,
   "metadata": {},
   "outputs": [
    {
     "data": {
      "text/plain": [
       "array([1., 0., 0., ..., 0., 0., 0.])"
      ]
     },
     "execution_count": 41,
     "metadata": {},
     "output_type": "execute_result"
    }
   ],
   "source": [
    "y_pred"
   ]
  },
  {
   "cell_type": "code",
   "execution_count": 42,
   "metadata": {},
   "outputs": [
    {
     "data": {
      "application/vnd.plotly.v1+json": {
       "config": {
        "linkText": "Export to plot.ly",
        "plotlyServerURL": "https://plot.ly",
        "showLink": false
       },
       "data": [
        {
         "line": {
          "color": "darkorange",
          "width": 2
         },
         "mode": "markers+lines",
         "name": "ROC Curve, (area = 0.7908537063305761)",
         "type": "scatter",
         "uid": "3015df5c-ecc0-4c8b-8d05-a4f88f13a4c1",
         "x": [
          0,
          0.04126059992406025,
          1
         ],
         "y": [
          0,
          0.6229680125852124,
          1
         ]
        },
        {
         "line": {
          "color": "navy",
          "dash": "dash",
          "width": 2
         },
         "mode": "lines",
         "showlegend": false,
         "type": "scatter",
         "uid": "2741157d-4d52-4eaf-b8d2-b168ded986f2",
         "x": [
          0,
          1
         ],
         "y": [
          0,
          1
         ]
        }
       ],
       "layout": {
        "autosize": true,
        "title": {
         "text": "ROC Curve: Naive Bayes"
        },
        "xaxis": {
         "autorange": true,
         "range": [
          -0.06118314424635331,
          1.0611831442463533
         ],
         "type": "linear"
        },
        "yaxis": {
         "autorange": true,
         "range": [
          -0.0732484076433121,
          1.0732484076433122
         ],
         "type": "linear"
        }
       }
      },
      "text/html": [
       "<div id=\"04dbb931-cc41-401e-9724-710e83e5a33d\" style=\"height: 525px; width: 100%;\" class=\"plotly-graph-div\"></div><script type=\"text/javascript\">require([\"plotly\"], function(Plotly) { window.PLOTLYENV=window.PLOTLYENV || {};window.PLOTLYENV.BASE_URL=\"https://plot.ly\";Plotly.newPlot(\"04dbb931-cc41-401e-9724-710e83e5a33d\", [{\"x\": [0.0, 0.04126059992406025, 1.0], \"uid\": \"3015df5c-ecc0-4c8b-8d05-a4f88f13a4c1\", \"type\": \"scatter\", \"mode\": \"markers+lines\", \"y\": [0.0, 0.6229680125852124, 1.0], \"name\": \"ROC Curve, (area = 0.7908537063305761)\", \"line\": {\"color\": \"darkorange\", \"width\": 2}}, {\"x\": [0, 1], \"uid\": \"2741157d-4d52-4eaf-b8d2-b168ded986f2\", \"type\": \"scatter\", \"mode\": \"lines\", \"y\": [0, 1], \"showlegend\": false, \"line\": {\"color\": \"navy\", \"dash\": \"dash\", \"width\": 2}}], {\"title\": {\"text\": \"ROC Curve: Naive Bayes\"}}, {\"linkText\": \"Export to plot.ly\", \"plotlyServerURL\": \"https://plot.ly\", \"showLink\": false})});</script><script type=\"text/javascript\">window.addEventListener(\"resize\", function(){window._Plotly.Plots.resize(document.getElementById(\"04dbb931-cc41-401e-9724-710e83e5a33d\"));});</script>"
      ],
      "text/vnd.plotly.v1+html": [
       "<div id=\"04dbb931-cc41-401e-9724-710e83e5a33d\" style=\"height: 525px; width: 100%;\" class=\"plotly-graph-div\"></div><script type=\"text/javascript\">require([\"plotly\"], function(Plotly) { window.PLOTLYENV=window.PLOTLYENV || {};window.PLOTLYENV.BASE_URL=\"https://plot.ly\";Plotly.newPlot(\"04dbb931-cc41-401e-9724-710e83e5a33d\", [{\"x\": [0.0, 0.04126059992406025, 1.0], \"uid\": \"3015df5c-ecc0-4c8b-8d05-a4f88f13a4c1\", \"type\": \"scatter\", \"mode\": \"markers+lines\", \"y\": [0.0, 0.6229680125852124, 1.0], \"name\": \"ROC Curve, (area = 0.7908537063305761)\", \"line\": {\"color\": \"darkorange\", \"width\": 2}}, {\"x\": [0, 1], \"uid\": \"2741157d-4d52-4eaf-b8d2-b168ded986f2\", \"type\": \"scatter\", \"mode\": \"lines\", \"y\": [0, 1], \"showlegend\": false, \"line\": {\"color\": \"navy\", \"dash\": \"dash\", \"width\": 2}}], {\"title\": {\"text\": \"ROC Curve: Naive Bayes\"}}, {\"linkText\": \"Export to plot.ly\", \"plotlyServerURL\": \"https://plot.ly\", \"showLink\": false})});</script><script type=\"text/javascript\">window.addEventListener(\"resize\", function(){window._Plotly.Plots.resize(document.getElementById(\"04dbb931-cc41-401e-9724-710e83e5a33d\"));});</script>"
      ]
     },
     "metadata": {},
     "output_type": "display_data"
    }
   ],
   "source": [
    "# predicted y probabilties\n",
    "trace0 = go.Scatter(\n",
    "    x = fpr_lr,\n",
    "    y = tpr_lr,\n",
    "    mode = 'markers+lines',\n",
    "    line=dict(color='darkorange', width=2),\n",
    "    name = 'ROC Curve, (area = {})'.format(auc_score_lr)\n",
    ")\n",
    "\n",
    "trace1 = go.Scatter(\n",
    "    x=[0, 1], y=[0, 1], \n",
    "    mode='lines', \n",
    "    line=dict(color='navy', width=2, dash='dash'),\n",
    "    showlegend=False)\n",
    "\n",
    "data = [trace0, trace1]\n",
    "\n",
    "title = 'ROC Curve: Naive Bayes'\n",
    "fig = go.Figure(data=data, layout = {'title':title})\n",
    "\n",
    "iplot(fig)\n",
    "pio.write_image(fig, plt_filepath+title+'.png')"
   ]
  },
  {
   "cell_type": "code",
   "execution_count": 43,
   "metadata": {},
   "outputs": [
    {
     "data": {
      "application/vnd.plotly.v1+json": {
       "config": {
        "linkText": "Export to plot.ly",
        "plotlyServerURL": "https://plot.ly",
        "showLink": false
       },
       "data": [
        {
         "line": {
          "color": "navy",
          "dash": "dash",
          "width": 2
         },
         "mode": "lines",
         "showlegend": false,
         "type": "scatter",
         "uid": "8f27f577-3d37-4494-96a0-9e636e90d86c",
         "x": [
          0,
          1
         ],
         "y": [
          0,
          1
         ]
        },
        {
         "mode": "markers+lines",
         "name": "Logistic Regression ROC Curve, (area = 0.7908537063305761)",
         "type": "scatter",
         "uid": "853076fe-255f-4216-8567-3a3c2f83204f",
         "x": [
          0,
          0.04126059992406025,
          1
         ],
         "y": [
          0,
          0.6229680125852124,
          1
         ]
        },
        {
         "mode": "markers+lines",
         "name": "Naive Bayes ROC Curve, (area = 0.5881804106096107)",
         "type": "scatter",
         "uid": "1fc87104-cc32-4230-ae4f-4bf8240b004d",
         "x": [
          0,
          0.07062397164915833,
          1
         ],
         "y": [
          0,
          0.24698479286837965,
          1
         ]
        },
        {
         "mode": "markers+lines",
         "name": "Random Forest ROC Curve, (area = 0.6828122491447818)",
         "type": "scatter",
         "uid": "dd1b8322-7e88-4719-86a0-762d79ab87b7",
         "x": [
          0,
          0.03290722693329958,
          1
         ],
         "y": [
          0,
          0.3985317252228631,
          1
         ]
        }
       ],
       "layout": {
        "autosize": true,
        "title": {
         "text": "ROC Curves"
        },
        "xaxis": {
         "autorange": true,
         "range": [
          -0.06208842897460019,
          1.0620884289746002
         ],
         "type": "linear"
        },
        "yaxis": {
         "autorange": true,
         "range": [
          -0.0732484076433121,
          1.0732484076433122
         ],
         "type": "linear"
        }
       }
      },
      "text/html": [
       "<div id=\"908937d0-32da-4877-bdcf-be109baf2d35\" style=\"height: 525px; width: 100%;\" class=\"plotly-graph-div\"></div><script type=\"text/javascript\">require([\"plotly\"], function(Plotly) { window.PLOTLYENV=window.PLOTLYENV || {};window.PLOTLYENV.BASE_URL=\"https://plot.ly\";Plotly.newPlot(\"908937d0-32da-4877-bdcf-be109baf2d35\", [{\"x\": [0, 1], \"uid\": \"8f27f577-3d37-4494-96a0-9e636e90d86c\", \"type\": \"scatter\", \"mode\": \"lines\", \"y\": [0, 1], \"showlegend\": false, \"line\": {\"color\": \"navy\", \"dash\": \"dash\", \"width\": 2}}, {\"x\": [0.0, 0.04126059992406025, 1.0], \"uid\": \"853076fe-255f-4216-8567-3a3c2f83204f\", \"type\": \"scatter\", \"mode\": \"markers+lines\", \"y\": [0.0, 0.6229680125852124, 1.0], \"name\": \"Logistic Regression ROC Curve, (area = 0.7908537063305761)\"}, {\"x\": [0.0, 0.07062397164915833, 1.0], \"uid\": \"1fc87104-cc32-4230-ae4f-4bf8240b004d\", \"type\": \"scatter\", \"mode\": \"markers+lines\", \"y\": [0.0, 0.24698479286837965, 1.0], \"name\": \"Naive Bayes ROC Curve, (area = 0.5881804106096107)\"}, {\"x\": [0.0, 0.03290722693329958, 1.0], \"uid\": \"dd1b8322-7e88-4719-86a0-762d79ab87b7\", \"type\": \"scatter\", \"mode\": \"markers+lines\", \"y\": [0.0, 0.3985317252228631, 1.0], \"name\": \"Random Forest ROC Curve, (area = 0.6828122491447818)\"}], {\"title\": {\"text\": \"ROC Curves\"}}, {\"linkText\": \"Export to plot.ly\", \"plotlyServerURL\": \"https://plot.ly\", \"showLink\": false})});</script><script type=\"text/javascript\">window.addEventListener(\"resize\", function(){window._Plotly.Plots.resize(document.getElementById(\"908937d0-32da-4877-bdcf-be109baf2d35\"));});</script>"
      ],
      "text/vnd.plotly.v1+html": [
       "<div id=\"908937d0-32da-4877-bdcf-be109baf2d35\" style=\"height: 525px; width: 100%;\" class=\"plotly-graph-div\"></div><script type=\"text/javascript\">require([\"plotly\"], function(Plotly) { window.PLOTLYENV=window.PLOTLYENV || {};window.PLOTLYENV.BASE_URL=\"https://plot.ly\";Plotly.newPlot(\"908937d0-32da-4877-bdcf-be109baf2d35\", [{\"x\": [0, 1], \"uid\": \"8f27f577-3d37-4494-96a0-9e636e90d86c\", \"type\": \"scatter\", \"mode\": \"lines\", \"y\": [0, 1], \"showlegend\": false, \"line\": {\"color\": \"navy\", \"dash\": \"dash\", \"width\": 2}}, {\"x\": [0.0, 0.04126059992406025, 1.0], \"uid\": \"853076fe-255f-4216-8567-3a3c2f83204f\", \"type\": \"scatter\", \"mode\": \"markers+lines\", \"y\": [0.0, 0.6229680125852124, 1.0], \"name\": \"Logistic Regression ROC Curve, (area = 0.7908537063305761)\"}, {\"x\": [0.0, 0.07062397164915833, 1.0], \"uid\": \"1fc87104-cc32-4230-ae4f-4bf8240b004d\", \"type\": \"scatter\", \"mode\": \"markers+lines\", \"y\": [0.0, 0.24698479286837965, 1.0], \"name\": \"Naive Bayes ROC Curve, (area = 0.5881804106096107)\"}, {\"x\": [0.0, 0.03290722693329958, 1.0], \"uid\": \"dd1b8322-7e88-4719-86a0-762d79ab87b7\", \"type\": \"scatter\", \"mode\": \"markers+lines\", \"y\": [0.0, 0.3985317252228631, 1.0], \"name\": \"Random Forest ROC Curve, (area = 0.6828122491447818)\"}], {\"title\": {\"text\": \"ROC Curves\"}}, {\"linkText\": \"Export to plot.ly\", \"plotlyServerURL\": \"https://plot.ly\", \"showLink\": false})});</script><script type=\"text/javascript\">window.addEventListener(\"resize\", function(){window._Plotly.Plots.resize(document.getElementById(\"908937d0-32da-4877-bdcf-be109baf2d35\"));});</script>"
      ]
     },
     "metadata": {},
     "output_type": "display_data"
    }
   ],
   "source": [
    "# predicted y probabilties\n",
    "trace_lr = go.Scatter(\n",
    "    x = fpr_lr,\n",
    "    y = tpr_lr,\n",
    "    mode = 'markers+lines',\n",
    "    #line=dict(color='darkorange', width=2),\n",
    "    name = 'Logistic Regression ROC Curve, (area = {})'.format(auc_score_lr)\n",
    ")\n",
    "\n",
    "trace_nb = go.Scatter(\n",
    "    x = fpr_nb,\n",
    "    y = tpr_nb,\n",
    "    mode = 'markers+lines',\n",
    "    #line=dict(color='darkorange', width=2),\n",
    "    name = 'Naive Bayes ROC Curve, (area = {})'.format(auc_score_nb)\n",
    ")\n",
    "\n",
    "trace_rf = go.Scatter(\n",
    "    x = fpr_rf,\n",
    "    y = tpr_rf,\n",
    "    mode = 'markers+lines',\n",
    "    #line=dict(color='darkorange', width=2),\n",
    "    name = 'Random Forest ROC Curve, (area = {})'.format(auc_score_rf)\n",
    ")\n",
    "\n",
    "trace0 = go.Scatter(\n",
    "    x=[0, 1], y=[0, 1], \n",
    "    mode='lines', \n",
    "    line=dict(color='navy', width=2, dash='dash'),\n",
    "    showlegend=False)\n",
    "\n",
    "data = [trace0, trace_lr, trace_nb, trace_rf]\n",
    "\n",
    "title = 'ROC Curves'\n",
    "fig = go.Figure(data=data, layout = {'title':title})\n",
    "\n",
    "iplot(fig)\n",
    "pio.write_image(fig, plt_filepath+title+'.png')"
   ]
  },
  {
   "cell_type": "markdown",
   "metadata": {},
   "source": [
    "### Save & Load Model"
   ]
  },
  {
   "cell_type": "code",
   "execution_count": 45,
   "metadata": {},
   "outputs": [
    {
     "data": {
      "text/plain": [
       "GridSearchCV(cv=5, error_score='raise-deprecating',\n",
       "       estimator=LogisticRegression(C=1.0, class_weight=None, dual=False, fit_intercept=True,\n",
       "          intercept_scaling=1, max_iter=100, multi_class='warn',\n",
       "          n_jobs=None, penalty='l2', random_state=None, solver='liblinear',\n",
       "          tol=0.0001, verbose=0, warm_start=False),\n",
       "       fit_params=None, iid='warn', n_jobs=None,\n",
       "       param_grid={'penalty': ['l1', 'l2'], 'C': array([1.00000e+00, 2.78256e+00, 7.74264e+00, 2.15443e+01, 5.99484e+01,\n",
       "       1.66810e+02, 4.64159e+02, 1.29155e+03, 3.59381e+03, 1.00000e+04])},\n",
       "       pre_dispatch='2*n_jobs', refit=True, return_train_score='warn',\n",
       "       scoring=None, verbose=0)"
      ]
     },
     "execution_count": 45,
     "metadata": {},
     "output_type": "execute_result"
    }
   ],
   "source": [
    "clf_lr"
   ]
  },
  {
   "cell_type": "code",
   "execution_count": 53,
   "metadata": {},
   "outputs": [
    {
     "name": "stdout",
     "output_type": "stream",
     "text": [
      "0.8934543230016313\n"
     ]
    }
   ],
   "source": [
    "result = clf_lr.score(X_test, y_test)\n",
    "print(result)"
   ]
  },
  {
   "cell_type": "code",
   "execution_count": 46,
   "metadata": {},
   "outputs": [
    {
     "data": {
      "text/plain": [
       "array([1., 0., 0., ..., 0., 0., 0.])"
      ]
     },
     "execution_count": 46,
     "metadata": {},
     "output_type": "execute_result"
    }
   ],
   "source": [
    "clf_lr.predict(X_test)"
   ]
  },
  {
   "cell_type": "code",
   "execution_count": 49,
   "metadata": {},
   "outputs": [
    {
     "data": {
      "text/plain": [
       "['models/model-1.sav']"
      ]
     },
     "execution_count": 49,
     "metadata": {},
     "output_type": "execute_result"
    }
   ],
   "source": [
    "# save model\n",
    "filename = 'models/model-1.sav'\n",
    "joblib.dump(clf_lr, filename)"
   ]
  },
  {
   "cell_type": "code",
   "execution_count": 50,
   "metadata": {},
   "outputs": [
    {
     "data": {
      "text/plain": [
       "GridSearchCV(cv=5, error_score='raise-deprecating',\n",
       "       estimator=LogisticRegression(C=1.0, class_weight=None, dual=False, fit_intercept=True,\n",
       "          intercept_scaling=1, max_iter=100, multi_class='warn',\n",
       "          n_jobs=None, penalty='l2', random_state=None, solver='liblinear',\n",
       "          tol=0.0001, verbose=0, warm_start=False),\n",
       "       fit_params=None, iid='warn', n_jobs=None,\n",
       "       param_grid={'penalty': ['l1', 'l2'], 'C': array([1.00000e+00, 2.78256e+00, 7.74264e+00, 2.15443e+01, 5.99484e+01,\n",
       "       1.66810e+02, 4.64159e+02, 1.29155e+03, 3.59381e+03, 1.00000e+04])},\n",
       "       pre_dispatch='2*n_jobs', refit=True, return_train_score='warn',\n",
       "       scoring=None, verbose=0)"
      ]
     },
     "execution_count": 50,
     "metadata": {},
     "output_type": "execute_result"
    }
   ],
   "source": [
    "# load the model from disk\n",
    "loaded_model = joblib.load(filename)\n",
    "loaded_model"
   ]
  },
  {
   "cell_type": "code",
   "execution_count": 52,
   "metadata": {},
   "outputs": [
    {
     "name": "stdout",
     "output_type": "stream",
     "text": [
      "0.8934543230016313\n"
     ]
    }
   ],
   "source": [
    "# re-run test validation\n",
    "result = loaded_model.score(X_test, y_test)\n",
    "print(result)"
   ]
  },
  {
   "cell_type": "markdown",
   "metadata": {},
   "source": [
    "## Predict Values on Test Dataset"
   ]
  },
  {
   "cell_type": "markdown",
   "metadata": {},
   "source": [
    "Since Logistic Regression has the best AUC (.79), let's use that for the first model predictions."
   ]
  },
  {
   "cell_type": "code",
   "execution_count": 54,
   "metadata": {},
   "outputs": [],
   "source": [
    "test = pd.read_csv('data/test.csv')"
   ]
  },
  {
   "cell_type": "code",
   "execution_count": 61,
   "metadata": {},
   "outputs": [],
   "source": [
    "y = loaded_model.predict_proba(test)\n",
    "y_classes = loaded_model.predict(test)"
   ]
  },
  {
   "cell_type": "code",
   "execution_count": 62,
   "metadata": {},
   "outputs": [
    {
     "data": {
      "text/plain": [
       "array([1.97008736e-01, 1.73090431e-04, 4.41005730e-02, ...,\n",
       "       1.93809574e-02, 1.64909771e-01, 1.84067332e-02])"
      ]
     },
     "execution_count": 62,
     "metadata": {},
     "output_type": "execute_result"
    }
   ],
   "source": [
    "y_pred = y[:,1]\n",
    "y_pred"
   ]
  },
  {
   "cell_type": "code",
   "execution_count": 65,
   "metadata": {},
   "outputs": [
    {
     "data": {
      "text/plain": [
       "array([0., 0., 0., ..., 0., 0., 0.])"
      ]
     },
     "execution_count": 65,
     "metadata": {},
     "output_type": "execute_result"
    }
   ],
   "source": [
    "y_pred_labels = y_classes\n",
    "y_pred_labels"
   ]
  },
  {
   "cell_type": "code",
   "execution_count": 66,
   "metadata": {},
   "outputs": [
    {
     "data": {
      "application/vnd.plotly.v1+json": {
       "config": {
        "linkText": "Export to plot.ly",
        "plotlyServerURL": "https://plot.ly",
        "showLink": false
       },
       "data": [
        {
         "mode": "markers",
         "name": "predicted y probabilties",
         "type": "scatter",
         "uid": "8f9c8f6b-2f92-46bf-b99f-8105abdc31ee",
         "x": [
          0,
          1,
          2,
          3,
          4,
          5,
          6,
          7,
          8,
          9,
          10,
          11,
          12,
          13,
          14,
          15,
          16,
          17,
          18,
          19,
          20,
          21,
          22,
          23,
          24,
          25,
          26,
          27,
          28,
          29,
          30,
          31,
          32,
          33,
          34,
          35,
          36,
          37,
          38,
          39,
          40,
          41,
          42,
          43,
          44,
          45,
          46,
          47,
          48,
          49,
          50,
          51,
          52,
          53,
          54,
          55,
          56,
          57,
          58,
          59,
          60,
          61,
          62,
          63,
          64,
          65,
          66,
          67,
          68,
          69,
          70,
          71,
          72,
          73,
          74,
          75,
          76,
          77,
          78,
          79,
          80,
          81,
          82,
          83,
          84,
          85,
          86,
          87,
          88,
          89,
          90,
          91,
          92,
          93,
          94,
          95,
          96,
          97,
          98,
          99,
          100,
          101,
          102,
          103,
          104,
          105,
          106,
          107,
          108,
          109,
          110,
          111,
          112,
          113,
          114,
          115,
          116,
          117,
          118,
          119,
          120,
          121,
          122,
          123,
          124,
          125,
          126,
          127,
          128,
          129,
          130,
          131,
          132,
          133,
          134,
          135,
          136,
          137,
          138,
          139,
          140,
          141,
          142,
          143,
          144,
          145,
          146,
          147,
          148,
          149,
          150,
          151,
          152,
          153,
          154,
          155,
          156,
          157,
          158,
          159,
          160,
          161,
          162,
          163,
          164,
          165,
          166,
          167,
          168,
          169,
          170,
          171,
          172,
          173,
          174,
          175,
          176,
          177,
          178,
          179,
          180,
          181,
          182,
          183,
          184,
          185,
          186,
          187,
          188,
          189,
          190,
          191,
          192,
          193,
          194,
          195,
          196,
          197,
          198,
          199,
          200,
          201,
          202,
          203,
          204,
          205,
          206,
          207,
          208,
          209,
          210,
          211,
          212,
          213,
          214,
          215,
          216,
          217,
          218,
          219,
          220,
          221,
          222,
          223,
          224,
          225,
          226,
          227,
          228,
          229,
          230,
          231,
          232,
          233,
          234,
          235,
          236,
          237,
          238,
          239,
          240,
          241,
          242,
          243,
          244,
          245,
          246,
          247,
          248,
          249,
          250,
          251,
          252,
          253,
          254,
          255,
          256,
          257,
          258,
          259,
          260,
          261,
          262,
          263,
          264,
          265,
          266,
          267,
          268,
          269,
          270,
          271,
          272,
          273,
          274,
          275,
          276,
          277,
          278,
          279,
          280,
          281,
          282,
          283,
          284,
          285,
          286,
          287,
          288,
          289,
          290,
          291,
          292,
          293,
          294,
          295,
          296,
          297,
          298,
          299,
          300,
          301,
          302,
          303,
          304,
          305,
          306,
          307,
          308,
          309,
          310,
          311,
          312,
          313,
          314,
          315,
          316,
          317,
          318,
          319,
          320,
          321,
          322,
          323,
          324,
          325,
          326,
          327,
          328,
          329,
          330,
          331,
          332,
          333,
          334,
          335,
          336,
          337,
          338,
          339,
          340,
          341,
          342,
          343,
          344,
          345,
          346,
          347,
          348,
          349,
          350,
          351,
          352,
          353,
          354,
          355,
          356,
          357,
          358,
          359,
          360,
          361,
          362,
          363,
          364,
          365,
          366,
          367,
          368,
          369,
          370,
          371,
          372,
          373,
          374,
          375,
          376,
          377,
          378,
          379,
          380,
          381,
          382,
          383,
          384,
          385,
          386,
          387,
          388,
          389,
          390,
          391,
          392,
          393,
          394,
          395,
          396,
          397,
          398,
          399,
          400,
          401,
          402,
          403,
          404,
          405,
          406,
          407,
          408,
          409,
          410,
          411,
          412,
          413,
          414,
          415,
          416,
          417,
          418,
          419,
          420,
          421,
          422,
          423,
          424,
          425,
          426,
          427,
          428,
          429,
          430,
          431,
          432,
          433,
          434,
          435,
          436,
          437,
          438,
          439,
          440,
          441,
          442,
          443,
          444,
          445,
          446,
          447,
          448,
          449,
          450,
          451,
          452,
          453,
          454,
          455,
          456,
          457,
          458,
          459,
          460,
          461,
          462,
          463,
          464,
          465,
          466,
          467,
          468,
          469,
          470,
          471,
          472,
          473,
          474,
          475,
          476,
          477,
          478,
          479,
          480,
          481,
          482,
          483,
          484,
          485,
          486,
          487,
          488,
          489,
          490,
          491,
          492,
          493,
          494,
          495,
          496,
          497,
          498,
          499
         ],
         "y": [
          0.19700873607250755,
          0.00017309043053989362,
          0.04410057296710191,
          0.8671061242704934,
          0.01542632392904928,
          0.06561182664805262,
          0.5853930596222364,
          0.0012476857580275289,
          0.9874699014278583,
          0.06026253794821699,
          0.026516271930210375,
          0.7351792716373529,
          0.0020913689028659163,
          0.16898197162783604,
          0.020925829462963005,
          0.007535002459018941,
          0.022284865022361936,
          0.003363263203021638,
          0.014224131700392639,
          0.33125051191081945,
          0.09222571550868149,
          0.9556412883123444,
          0.7108164307811148,
          0.09496859340396302,
          0.961512170119288,
          0.01397383933085855,
          0.9437297879925636,
          0.02694468149077384,
          0.02276859536738307,
          0.030009558955446845,
          0.010565396353980638,
          0.00739410025974175,
          0.7542241434994307,
          0.18511633759709709,
          0.028703167314289853,
          0.11091550600799399,
          0.08310695425718843,
          0.5380371225973172,
          0.012573213815767786,
          0.043554200539515434,
          0.9307531168664438,
          0.10858396904848575,
          0.001442296803668162,
          0.07653636915890144,
          0.13842182715900195,
          0.7988822405581353,
          0.017451927415044064,
          0.024404513947570556,
          0.10886076226282544,
          0.02218537831476813,
          0.0044890486996131684,
          0.01103584625032567,
          0.025305832461757657,
          0.008046153816148132,
          0.02649533103144964,
          0.06304830659230501,
          0.005869799078124031,
          0.0025780886180500114,
          0.17586610001836933,
          0.14944329942990103,
          0.01668439788062717,
          0.31143143759977104,
          0.6671481858758417,
          0.0017284098484369535,
          0.7341929013390177,
          0.3510644258398481,
          0.012564691395562147,
          0.3349897328301733,
          0.08228461457026233,
          0.9758449212942434,
          0.04731443399066698,
          0.009232831353996933,
          0.01702505093898214,
          0.3231121968140925,
          0.03611973611171869,
          0.00042572904923711435,
          0.02430285753056599,
          0.09665731302607154,
          0.02365900655199439,
          0.015251190059427036,
          0.056737042439839784,
          0.6113276732793188,
          0.11248072491762243,
          0.006886467872334293,
          0.08152446390123146,
          0.03169152056003241,
          0.5253542789292721,
          0.06181909911132735,
          0.19901962268290752,
          0.013529113428091759,
          0.9701895754984705,
          0.02349113835149,
          0.012799619664070123,
          0.08558362865436453,
          0.009003781582919198,
          0.005429651786440631,
          0.0024197371042094643,
          0.024508804764618357,
          0.7341428259398199,
          0.16336776112047746,
          0.13523126297835938,
          0.015062051572986618,
          0.024767496788122366,
          0.5576885090598104,
          0.021773704304222374,
          0.01622873917288509,
          0.06336159206299663,
          0.04897724513519192,
          0.001156722163220663,
          0.027800886061510297,
          0.09856346484839654,
          0.04105445422860434,
          0.10028857600112631,
          0.6108173622417598,
          0.08527328945457115,
          0.014816218594483031,
          0.19898763657662766,
          0.9709354047003111,
          0.6085127031714559,
          0.05645854225753185,
          0.00026148379812814736,
          0.14688649830461215,
          0.021042301563900242,
          0.03580919577171459,
          0.8911466808362735,
          0.8051760099849381,
          0.03291115949757868,
          0.041070580777355585,
          0.21652649517948333,
          0.11613577226787779,
          0.05351663911230397,
          0.07036421911290905,
          0.47341263666941813,
          0.0060565853114979435,
          0.11280514938723052,
          0.9698067863078723,
          0.1582325014496948,
          0.015222924631240094,
          0.20845455171826227,
          0.8112144166615449,
          0.0018211345260065836,
          0.0684325099383993,
          0.01114874283948145,
          0.613728091471187,
          0.006746914859265783,
          0.7509363437446014,
          0.0038300570438547497,
          0.708413351502093,
          0.19225143098121772,
          0.023729383957857658,
          0.0032184791735537185,
          0.17381354081118935,
          0.09378634551475815,
          0.6763062934759421,
          0.10574802232324094,
          0.29215374904888575,
          0.06633293604097236,
          0.03910732392400234,
          0.06522336409496714,
          0.18898378518680436,
          0.06091497829188555,
          0.11082371922056015,
          0.0007235744645453042,
          0.18426398900395327,
          0.04615434780178035,
          0.4922218249510631,
          0.00279033738556775,
          0.1622145866049419,
          0.007449990867386388,
          0.04142793674681841,
          0.2886219057056402,
          0.10200726293066593,
          0.333598809491075,
          0.011290822577863185,
          0.018163240012714577,
          0.03860217163801511,
          0.016257989313648878,
          0.08832696263934003,
          0.11829906543469057,
          0.029553571791705598,
          0.13353616964270368,
          0.38784289158502644,
          0.5126043685423958,
          0.7322038732053621,
          0.05043163486476597,
          0.6826538946072193,
          0.016076746305687624,
          0.0655454447214533,
          0.9904716921386131,
          0.6028001529714747,
          0.020050135442275897,
          0.0014481553789180306,
          0.19973338459926618,
          0.04351669252699192,
          0.08035669519904262,
          0.8827499016408288,
          0.2774795697355835,
          0.0008274080496339653,
          0.006742159847333221,
          0.028613414301712423,
          0.004356044468327403,
          0.06149652905912043,
          0.572640444241066,
          0.14832480940338577,
          0.015572909559779814,
          0.008114595858320538,
          0.11125326792292135,
          0.009098989133248206,
          0.9927039096360828,
          0.7425301303207628,
          0.018498393686392306,
          0.010701504571731685,
          0.328064436802042,
          0.9494342445249795,
          0.02232952631740989,
          0.038418964081952965,
          0.015574180937717006,
          0.0016545656547749072,
          0.5968928710463302,
          0.0026666998223614626,
          0.22032731935884525,
          0.0010091611737673906,
          0.0009340486189660046,
          0.6746104556681872,
          0.004244098239860206,
          0.07331071469941478,
          0.011445222663570226,
          0.0851505639743872,
          0.08475923695855953,
          0.22352810970777237,
          0.027802475456322008,
          0.009095346317205278,
          0.06003164902830126,
          0.07098755259265169,
          0.5185335636702035,
          0.07715106216179814,
          0.05958243417065987,
          0.024425992610196838,
          0.016777052937479022,
          0.09579924914351445,
          0.0272599726634101,
          0.6858617203665809,
          0.445578284106339,
          0.003013551529649923,
          0.02580198355353317,
          0.035743116507972544,
          0.13147535339723668,
          0.0187871780977527,
          0.013346976645070754,
          0.021424913823134537,
          0.007722049963048124,
          0.20642824511858418,
          0.085195385718032,
          0.08700159792035272,
          0.7660502110251257,
          0.002886030247636301,
          0.030871142093556878,
          0.05915792048805267,
          0.15980675424512114,
          0.06646558296745912,
          0.0215771496043133,
          0.010726067849463602,
          0.03282865072060132,
          0.13702982937329422,
          0.11758674588968866,
          0.03198830972606338,
          0.06015586987473244,
          0.2100061690208375,
          0.29192217656224184,
          0.05542600058717889,
          0.02317094001569907,
          0.01620573568011664,
          0.13908405720502484,
          0.0058039531688600715,
          0.0018235015691726744,
          0.12258423830751344,
          0.03979207527886404,
          0.8435601201612916,
          0.020834540644719325,
          0.37584215509797575,
          0.03016851154003612,
          0.04263285623496257,
          0.12529236745528816,
          0.007178029975374989,
          0.0006661789470122019,
          0.5286288952518138,
          0.20390915761772138,
          0.948034271699312,
          0.03554936751165898,
          0.5637345658049361,
          0.1364303154902513,
          0.9002093877147164,
          0.02005034989441698,
          0.3612961600318619,
          0.04736301328627974,
          0.004778666972485446,
          0.0021709268402809955,
          0.10570410027410888,
          0.09850625515064917,
          0.8864353905221733,
          0.3023707309275756,
          0.12155427182840119,
          0.05542541963803947,
          0.7904836953913287,
          0.1695097614615068,
          0.6706885650233269,
          0.06510331018854096,
          0.008514108225742069,
          0.096324907538997,
          0.6562937441521172,
          0.05097829844516037,
          0.01920904712150125,
          0.5873844257300345,
          0.1095826113962331,
          0.3380060802808607,
          0.011572668669231774,
          0.1350128399274816,
          0.012155475762826959,
          0.05194633445906633,
          0.4144849099377645,
          0.0018600624919238417,
          0.03361411676611241,
          0.006102431373854035,
          0.10597513873403758,
          0.5020100936065307,
          0.005208276179760537,
          0.06517272422781561,
          0.8778150241399215,
          0.06539411655796576,
          0.030122239211424165,
          0.27692626582219576,
          0.18034703830212456,
          0.06060647474044853,
          0.001090508801302673,
          0.7289271022962938,
          0.03627458172668134,
          0.939077431184475,
          0.003559678339336581,
          0.12209333033382468,
          0.006708569646362743,
          0.01677988678566817,
          0.17635047604619236,
          0.1251579839062669,
          0.07422195288426796,
          0.006540678852716074,
          0.11031360248947393,
          0.03579271487972566,
          0.13860055617125766,
          0.11984879328477026,
          0.014240955985097664,
          0.05829416222383292,
          0.2480355593064134,
          0.009946704501810674,
          0.1363569148509692,
          0.003290266130917578,
          0.6430957648627442,
          0.0013093963752049559,
          0.012656091274382253,
          0.07555446990872361,
          0.5506792724127259,
          0.023100172538189065,
          0.0014497924782650364,
          0.01520787895621421,
          0.01842983219338924,
          0.8161224063087054,
          0.052911616561622195,
          0.12406964722186221,
          0.04374625323616458,
          0.8866552249157915,
          0.0003919355517770381,
          0.38950499876567,
          0.06963746103800361,
          0.010406597166371196,
          0.9320937933813636,
          0.044612495814905666,
          0.13699736492371398,
          0.004416508846016221,
          0.11520003937307442,
          0.45523666241586724,
          0.003668859208520975,
          0.11005642948124131,
          0.11853049190679518,
          0.017798742708453205,
          0.39766064111548066,
          0.01620209946782253,
          0.1168547629800412,
          0.9743624860722975,
          0.15276180850986532,
          0.02096200048278506,
          0.04571622366288248,
          0.4714442383007135,
          0.618115992405941,
          0.1412513146436004,
          0.017972099929145235,
          0.013698666654619714,
          0.021020552194071708,
          0.09989376105381689,
          0.006564642099834335,
          0.07915641726208911,
          0.0007938993676194941,
          0.007552133660960189,
          0.6459042927489671,
          0.5933947234252956,
          0.2967705590225992,
          0.5059420014499976,
          0.01891143864109306,
          0.17658804408435758,
          0.08378009578704963,
          0.00474244024368963,
          0.045884101054184945,
          0.02379522102806093,
          0.0002640801089002713,
          0.037255221856918944,
          0.8810482421444104,
          0.027808239712015386,
          0.0516518409044604,
          0.024036635958749015,
          0.23445996529909638,
          0.045284009153676766,
          0.2400766735073275,
          0.12418883941444821,
          0.005272428355908607,
          0.003345793106638024,
          0.11207229683723965,
          0.006521286877630729,
          0.1655835501133832,
          0.058586723218031725,
          0.07433685651161225,
          0.032402610323303015,
          0.01563315853898444,
          0.012349921289038661,
          0.011467144914651667,
          0.05219117627309711,
          0.18548306976398393,
          0.03524524938476969,
          0.40327113632509365,
          0.3573104342498756,
          0.0008082730692183695,
          0.07404200893480604,
          0.19152742592851052,
          0.03757116547512876,
          0.0304196477524282,
          0.08394282384820176,
          0.05080761213613485,
          0.007124539035521975,
          0.0180692024177488,
          0.07403273651962901,
          0.00681982201964295,
          0.02471886237901664,
          0.13857155881069294,
          0.01946462274200468,
          0.4139657850651758,
          0.10535515800690042,
          0.04096261502905534,
          0.06631090169242082,
          0.13873396336903343,
          0.06938483694904993,
          0.012465999911420894,
          0.2763668782463241,
          0.9913640733653111,
          0.1022428308969439,
          0.010441725304331725,
          0.014514990227976988,
          0.04450522486350728,
          0.07638950710694897,
          0.22836623993069746,
          0.33330151495214966,
          0.020464290911877736,
          0.7002667000304414,
          0.022925247902498995,
          0.18187675259816283,
          0.6973349310216231,
          0.0373746887787619,
          0.17156670717031544,
          0.4123898458919108,
          0.03521379731969031,
          0.025755065774227693,
          0.0004260448231160386,
          0.008580491058392915,
          0.6453325138150581,
          0.010640707092197986,
          0.9804678665831023,
          0.3328300706761185,
          0.021598057250731332,
          0.8271613777887201,
          0.007580635965587668,
          0.6790984154109617,
          0.3648873526660618,
          0.33090144015143796,
          0.03226625242364091,
          0.011339646022313752,
          0.009425291192255618,
          0.1646222096395941,
          0.015516628263996895,
          0.913214991717324,
          0.01835253492917461,
          0.42201850061627233,
          0.8422098710648254,
          0.04718245131367837,
          0.08870419673775105
         ]
        },
        {
         "mode": "markers",
         "name": "predicted y labels",
         "type": "scatter",
         "uid": "b9f2035b-e182-4bb1-ac94-f4fa48a3e667",
         "x": [
          0,
          1,
          2,
          3,
          4,
          5,
          6,
          7,
          8,
          9,
          10,
          11,
          12,
          13,
          14,
          15,
          16,
          17,
          18,
          19,
          20,
          21,
          22,
          23,
          24,
          25,
          26,
          27,
          28,
          29,
          30,
          31,
          32,
          33,
          34,
          35,
          36,
          37,
          38,
          39,
          40,
          41,
          42,
          43,
          44,
          45,
          46,
          47,
          48,
          49,
          50,
          51,
          52,
          53,
          54,
          55,
          56,
          57,
          58,
          59,
          60,
          61,
          62,
          63,
          64,
          65,
          66,
          67,
          68,
          69,
          70,
          71,
          72,
          73,
          74,
          75,
          76,
          77,
          78,
          79,
          80,
          81,
          82,
          83,
          84,
          85,
          86,
          87,
          88,
          89,
          90,
          91,
          92,
          93,
          94,
          95,
          96,
          97,
          98,
          99,
          100,
          101,
          102,
          103,
          104,
          105,
          106,
          107,
          108,
          109,
          110,
          111,
          112,
          113,
          114,
          115,
          116,
          117,
          118,
          119,
          120,
          121,
          122,
          123,
          124,
          125,
          126,
          127,
          128,
          129,
          130,
          131,
          132,
          133,
          134,
          135,
          136,
          137,
          138,
          139,
          140,
          141,
          142,
          143,
          144,
          145,
          146,
          147,
          148,
          149,
          150,
          151,
          152,
          153,
          154,
          155,
          156,
          157,
          158,
          159,
          160,
          161,
          162,
          163,
          164,
          165,
          166,
          167,
          168,
          169,
          170,
          171,
          172,
          173,
          174,
          175,
          176,
          177,
          178,
          179,
          180,
          181,
          182,
          183,
          184,
          185,
          186,
          187,
          188,
          189,
          190,
          191,
          192,
          193,
          194,
          195,
          196,
          197,
          198,
          199,
          200,
          201,
          202,
          203,
          204,
          205,
          206,
          207,
          208,
          209,
          210,
          211,
          212,
          213,
          214,
          215,
          216,
          217,
          218,
          219,
          220,
          221,
          222,
          223,
          224,
          225,
          226,
          227,
          228,
          229,
          230,
          231,
          232,
          233,
          234,
          235,
          236,
          237,
          238,
          239,
          240,
          241,
          242,
          243,
          244,
          245,
          246,
          247,
          248,
          249,
          250,
          251,
          252,
          253,
          254,
          255,
          256,
          257,
          258,
          259,
          260,
          261,
          262,
          263,
          264,
          265,
          266,
          267,
          268,
          269,
          270,
          271,
          272,
          273,
          274,
          275,
          276,
          277,
          278,
          279,
          280,
          281,
          282,
          283,
          284,
          285,
          286,
          287,
          288,
          289,
          290,
          291,
          292,
          293,
          294,
          295,
          296,
          297,
          298,
          299,
          300,
          301,
          302,
          303,
          304,
          305,
          306,
          307,
          308,
          309,
          310,
          311,
          312,
          313,
          314,
          315,
          316,
          317,
          318,
          319,
          320,
          321,
          322,
          323,
          324,
          325,
          326,
          327,
          328,
          329,
          330,
          331,
          332,
          333,
          334,
          335,
          336,
          337,
          338,
          339,
          340,
          341,
          342,
          343,
          344,
          345,
          346,
          347,
          348,
          349,
          350,
          351,
          352,
          353,
          354,
          355,
          356,
          357,
          358,
          359,
          360,
          361,
          362,
          363,
          364,
          365,
          366,
          367,
          368,
          369,
          370,
          371,
          372,
          373,
          374,
          375,
          376,
          377,
          378,
          379,
          380,
          381,
          382,
          383,
          384,
          385,
          386,
          387,
          388,
          389,
          390,
          391,
          392,
          393,
          394,
          395,
          396,
          397,
          398,
          399,
          400,
          401,
          402,
          403,
          404,
          405,
          406,
          407,
          408,
          409,
          410,
          411,
          412,
          413,
          414,
          415,
          416,
          417,
          418,
          419,
          420,
          421,
          422,
          423,
          424,
          425,
          426,
          427,
          428,
          429,
          430,
          431,
          432,
          433,
          434,
          435,
          436,
          437,
          438,
          439,
          440,
          441,
          442,
          443,
          444,
          445,
          446,
          447,
          448,
          449,
          450,
          451,
          452,
          453,
          454,
          455,
          456,
          457,
          458,
          459,
          460,
          461,
          462,
          463,
          464,
          465,
          466,
          467,
          468,
          469,
          470,
          471,
          472,
          473,
          474,
          475,
          476,
          477,
          478,
          479,
          480,
          481,
          482,
          483,
          484,
          485,
          486,
          487,
          488,
          489,
          490,
          491,
          492,
          493,
          494,
          495,
          496,
          497,
          498,
          499
         ],
         "y": [
          0,
          0,
          0,
          1,
          0,
          0,
          1,
          0,
          1,
          0,
          0,
          1,
          0,
          0,
          0,
          0,
          0,
          0,
          0,
          0,
          0,
          1,
          1,
          0,
          1,
          0,
          1,
          0,
          0,
          0,
          0,
          0,
          1,
          0,
          0,
          0,
          0,
          1,
          0,
          0,
          1,
          0,
          0,
          0,
          0,
          1,
          0,
          0,
          0,
          0,
          0,
          0,
          0,
          0,
          0,
          0,
          0,
          0,
          0,
          0,
          0,
          0,
          1,
          0,
          1,
          0,
          0,
          0,
          0,
          1,
          0,
          0,
          0,
          0,
          0,
          0,
          0,
          0,
          0,
          0,
          0,
          1,
          0,
          0,
          0,
          0,
          1,
          0,
          0,
          0,
          1,
          0,
          0,
          0,
          0,
          0,
          0,
          0,
          1,
          0,
          0,
          0,
          0,
          1,
          0,
          0,
          0,
          0,
          0,
          0,
          0,
          0,
          0,
          1,
          0,
          0,
          0,
          1,
          1,
          0,
          0,
          0,
          0,
          0,
          1,
          1,
          0,
          0,
          0,
          0,
          0,
          0,
          0,
          0,
          0,
          1,
          0,
          0,
          0,
          1,
          0,
          0,
          0,
          1,
          0,
          1,
          0,
          1,
          0,
          0,
          0,
          0,
          0,
          1,
          0,
          0,
          0,
          0,
          0,
          0,
          0,
          0,
          0,
          0,
          0,
          0,
          0,
          0,
          0,
          0,
          0,
          0,
          0,
          0,
          0,
          0,
          0,
          0,
          0,
          0,
          0,
          0,
          1,
          1,
          0,
          1,
          0,
          0,
          1,
          1,
          0,
          0,
          0,
          0,
          0,
          1,
          0,
          0,
          0,
          0,
          0,
          0,
          1,
          0,
          0,
          0,
          0,
          0,
          1,
          1,
          0,
          0,
          0,
          1,
          0,
          0,
          0,
          0,
          1,
          0,
          0,
          0,
          0,
          1,
          0,
          0,
          0,
          0,
          0,
          0,
          0,
          0,
          0,
          0,
          1,
          0,
          0,
          0,
          0,
          0,
          0,
          1,
          0,
          0,
          0,
          0,
          0,
          0,
          0,
          0,
          0,
          0,
          0,
          0,
          1,
          0,
          0,
          0,
          0,
          0,
          0,
          0,
          0,
          0,
          0,
          0,
          0,
          0,
          0,
          0,
          0,
          0,
          0,
          0,
          0,
          0,
          0,
          1,
          0,
          0,
          0,
          0,
          0,
          0,
          0,
          1,
          0,
          1,
          0,
          1,
          0,
          1,
          0,
          0,
          0,
          0,
          0,
          0,
          0,
          1,
          0,
          0,
          0,
          1,
          0,
          1,
          0,
          0,
          0,
          1,
          0,
          0,
          1,
          0,
          0,
          0,
          0,
          0,
          0,
          0,
          0,
          0,
          0,
          0,
          1,
          0,
          0,
          1,
          0,
          0,
          0,
          0,
          0,
          0,
          1,
          0,
          1,
          0,
          0,
          0,
          0,
          0,
          0,
          0,
          0,
          0,
          0,
          0,
          0,
          0,
          0,
          0,
          0,
          0,
          0,
          1,
          0,
          0,
          0,
          1,
          0,
          0,
          0,
          0,
          1,
          0,
          0,
          0,
          1,
          0,
          0,
          0,
          0,
          1,
          0,
          0,
          0,
          0,
          0,
          0,
          0,
          0,
          0,
          0,
          0,
          0,
          1,
          0,
          0,
          0,
          0,
          1,
          0,
          0,
          0,
          0,
          0,
          0,
          0,
          0,
          0,
          1,
          1,
          0,
          1,
          0,
          0,
          0,
          0,
          0,
          0,
          0,
          0,
          1,
          0,
          0,
          0,
          0,
          0,
          0,
          0,
          0,
          0,
          0,
          0,
          0,
          0,
          0,
          0,
          0,
          0,
          0,
          0,
          0,
          0,
          0,
          0,
          0,
          0,
          0,
          0,
          0,
          0,
          0,
          0,
          0,
          0,
          0,
          0,
          0,
          0,
          0,
          0,
          0,
          0,
          0,
          0,
          0,
          0,
          1,
          0,
          0,
          0,
          0,
          0,
          0,
          0,
          0,
          1,
          0,
          0,
          1,
          0,
          0,
          0,
          0,
          0,
          0,
          0,
          1,
          0,
          1,
          0,
          0,
          1,
          0,
          1,
          0,
          0,
          0,
          0,
          0,
          0,
          0,
          1,
          0,
          0,
          1,
          0,
          0
         ]
        }
       ],
       "layout": {
        "autosize": true,
        "title": {
         "text": "Y: Predicted Probabilties, Predicted Labels for the Test Dataset"
        },
        "xaxis": {
         "autorange": true,
         "range": [
          -30.17551622418879,
          529.1755162241888
         ],
         "type": "linear"
        },
        "yaxis": {
         "autorange": true,
         "range": [
          -0.0732484076433121,
          1.0732484076433122
         ],
         "type": "linear"
        }
       }
      },
      "text/html": [
       "<div id=\"009703d4-6444-41ae-8d6e-4f9067073e8b\" style=\"height: 525px; width: 100%;\" class=\"plotly-graph-div\"></div><script type=\"text/javascript\">require([\"plotly\"], function(Plotly) { window.PLOTLYENV=window.PLOTLYENV || {};window.PLOTLYENV.BASE_URL=\"https://plot.ly\";Plotly.newPlot(\"009703d4-6444-41ae-8d6e-4f9067073e8b\", [{\"x\": [0, 1, 2, 3, 4, 5, 6, 7, 8, 9, 10, 11, 12, 13, 14, 15, 16, 17, 18, 19, 20, 21, 22, 23, 24, 25, 26, 27, 28, 29, 30, 31, 32, 33, 34, 35, 36, 37, 38, 39, 40, 41, 42, 43, 44, 45, 46, 47, 48, 49, 50, 51, 52, 53, 54, 55, 56, 57, 58, 59, 60, 61, 62, 63, 64, 65, 66, 67, 68, 69, 70, 71, 72, 73, 74, 75, 76, 77, 78, 79, 80, 81, 82, 83, 84, 85, 86, 87, 88, 89, 90, 91, 92, 93, 94, 95, 96, 97, 98, 99, 100, 101, 102, 103, 104, 105, 106, 107, 108, 109, 110, 111, 112, 113, 114, 115, 116, 117, 118, 119, 120, 121, 122, 123, 124, 125, 126, 127, 128, 129, 130, 131, 132, 133, 134, 135, 136, 137, 138, 139, 140, 141, 142, 143, 144, 145, 146, 147, 148, 149, 150, 151, 152, 153, 154, 155, 156, 157, 158, 159, 160, 161, 162, 163, 164, 165, 166, 167, 168, 169, 170, 171, 172, 173, 174, 175, 176, 177, 178, 179, 180, 181, 182, 183, 184, 185, 186, 187, 188, 189, 190, 191, 192, 193, 194, 195, 196, 197, 198, 199, 200, 201, 202, 203, 204, 205, 206, 207, 208, 209, 210, 211, 212, 213, 214, 215, 216, 217, 218, 219, 220, 221, 222, 223, 224, 225, 226, 227, 228, 229, 230, 231, 232, 233, 234, 235, 236, 237, 238, 239, 240, 241, 242, 243, 244, 245, 246, 247, 248, 249, 250, 251, 252, 253, 254, 255, 256, 257, 258, 259, 260, 261, 262, 263, 264, 265, 266, 267, 268, 269, 270, 271, 272, 273, 274, 275, 276, 277, 278, 279, 280, 281, 282, 283, 284, 285, 286, 287, 288, 289, 290, 291, 292, 293, 294, 295, 296, 297, 298, 299, 300, 301, 302, 303, 304, 305, 306, 307, 308, 309, 310, 311, 312, 313, 314, 315, 316, 317, 318, 319, 320, 321, 322, 323, 324, 325, 326, 327, 328, 329, 330, 331, 332, 333, 334, 335, 336, 337, 338, 339, 340, 341, 342, 343, 344, 345, 346, 347, 348, 349, 350, 351, 352, 353, 354, 355, 356, 357, 358, 359, 360, 361, 362, 363, 364, 365, 366, 367, 368, 369, 370, 371, 372, 373, 374, 375, 376, 377, 378, 379, 380, 381, 382, 383, 384, 385, 386, 387, 388, 389, 390, 391, 392, 393, 394, 395, 396, 397, 398, 399, 400, 401, 402, 403, 404, 405, 406, 407, 408, 409, 410, 411, 412, 413, 414, 415, 416, 417, 418, 419, 420, 421, 422, 423, 424, 425, 426, 427, 428, 429, 430, 431, 432, 433, 434, 435, 436, 437, 438, 439, 440, 441, 442, 443, 444, 445, 446, 447, 448, 449, 450, 451, 452, 453, 454, 455, 456, 457, 458, 459, 460, 461, 462, 463, 464, 465, 466, 467, 468, 469, 470, 471, 472, 473, 474, 475, 476, 477, 478, 479, 480, 481, 482, 483, 484, 485, 486, 487, 488, 489, 490, 491, 492, 493, 494, 495, 496, 497, 498, 499], \"uid\": \"8f9c8f6b-2f92-46bf-b99f-8105abdc31ee\", \"type\": \"scatter\", \"mode\": \"markers\", \"y\": [0.19700873607250755, 0.00017309043053989362, 0.04410057296710191, 0.8671061242704934, 0.01542632392904928, 0.06561182664805262, 0.5853930596222364, 0.0012476857580275289, 0.9874699014278583, 0.06026253794821699, 0.026516271930210375, 0.7351792716373529, 0.0020913689028659163, 0.16898197162783604, 0.020925829462963005, 0.007535002459018941, 0.022284865022361936, 0.003363263203021638, 0.014224131700392639, 0.33125051191081945, 0.09222571550868149, 0.9556412883123444, 0.7108164307811148, 0.09496859340396302, 0.961512170119288, 0.01397383933085855, 0.9437297879925636, 0.02694468149077384, 0.02276859536738307, 0.030009558955446845, 0.010565396353980638, 0.00739410025974175, 0.7542241434994307, 0.18511633759709709, 0.028703167314289853, 0.11091550600799399, 0.08310695425718843, 0.5380371225973172, 0.012573213815767786, 0.043554200539515434, 0.9307531168664438, 0.10858396904848575, 0.001442296803668162, 0.07653636915890144, 0.13842182715900195, 0.7988822405581353, 0.017451927415044064, 0.024404513947570556, 0.10886076226282544, 0.02218537831476813, 0.0044890486996131684, 0.01103584625032567, 0.025305832461757657, 0.008046153816148132, 0.02649533103144964, 0.06304830659230501, 0.005869799078124031, 0.0025780886180500114, 0.17586610001836933, 0.14944329942990103, 0.01668439788062717, 0.31143143759977104, 0.6671481858758417, 0.0017284098484369535, 0.7341929013390177, 0.3510644258398481, 0.012564691395562147, 0.3349897328301733, 0.08228461457026233, 0.9758449212942434, 0.04731443399066698, 0.009232831353996933, 0.01702505093898214, 0.3231121968140925, 0.03611973611171869, 0.00042572904923711435, 0.02430285753056599, 0.09665731302607154, 0.02365900655199439, 0.015251190059427036, 0.056737042439839784, 0.6113276732793188, 0.11248072491762243, 0.006886467872334293, 0.08152446390123146, 0.03169152056003241, 0.5253542789292721, 0.06181909911132735, 0.19901962268290752, 0.013529113428091759, 0.9701895754984705, 0.02349113835149, 0.012799619664070123, 0.08558362865436453, 0.009003781582919198, 0.005429651786440631, 0.0024197371042094643, 0.024508804764618357, 0.7341428259398199, 0.16336776112047746, 0.13523126297835938, 0.015062051572986618, 0.024767496788122366, 0.5576885090598104, 0.021773704304222374, 0.01622873917288509, 0.06336159206299663, 0.04897724513519192, 0.001156722163220663, 0.027800886061510297, 0.09856346484839654, 0.04105445422860434, 0.10028857600112631, 0.6108173622417598, 0.08527328945457115, 0.014816218594483031, 0.19898763657662766, 0.9709354047003111, 0.6085127031714559, 0.05645854225753185, 0.00026148379812814736, 0.14688649830461215, 0.021042301563900242, 0.03580919577171459, 0.8911466808362735, 0.8051760099849381, 0.03291115949757868, 0.041070580777355585, 0.21652649517948333, 0.11613577226787779, 0.05351663911230397, 0.07036421911290905, 0.47341263666941813, 0.0060565853114979435, 0.11280514938723052, 0.9698067863078723, 0.1582325014496948, 0.015222924631240094, 0.20845455171826227, 0.8112144166615449, 0.0018211345260065836, 0.0684325099383993, 0.01114874283948145, 0.613728091471187, 0.006746914859265783, 0.7509363437446014, 0.0038300570438547497, 0.708413351502093, 0.19225143098121772, 0.023729383957857658, 0.0032184791735537185, 0.17381354081118935, 0.09378634551475815, 0.6763062934759421, 0.10574802232324094, 0.29215374904888575, 0.06633293604097236, 0.03910732392400234, 0.06522336409496714, 0.18898378518680436, 0.06091497829188555, 0.11082371922056015, 0.0007235744645453042, 0.18426398900395327, 0.04615434780178035, 0.4922218249510631, 0.00279033738556775, 0.1622145866049419, 0.007449990867386388, 0.04142793674681841, 0.2886219057056402, 0.10200726293066593, 0.333598809491075, 0.011290822577863185, 0.018163240012714577, 0.03860217163801511, 0.016257989313648878, 0.08832696263934003, 0.11829906543469057, 0.029553571791705598, 0.13353616964270368, 0.38784289158502644, 0.5126043685423958, 0.7322038732053621, 0.05043163486476597, 0.6826538946072193, 0.016076746305687624, 0.0655454447214533, 0.9904716921386131, 0.6028001529714747, 0.020050135442275897, 0.0014481553789180306, 0.19973338459926618, 0.04351669252699192, 0.08035669519904262, 0.8827499016408288, 0.2774795697355835, 0.0008274080496339653, 0.006742159847333221, 0.028613414301712423, 0.004356044468327403, 0.06149652905912043, 0.572640444241066, 0.14832480940338577, 0.015572909559779814, 0.008114595858320538, 0.11125326792292135, 0.009098989133248206, 0.9927039096360828, 0.7425301303207628, 0.018498393686392306, 0.010701504571731685, 0.328064436802042, 0.9494342445249795, 0.02232952631740989, 0.038418964081952965, 0.015574180937717006, 0.0016545656547749072, 0.5968928710463302, 0.0026666998223614626, 0.22032731935884525, 0.0010091611737673906, 0.0009340486189660046, 0.6746104556681872, 0.004244098239860206, 0.07331071469941478, 0.011445222663570226, 0.0851505639743872, 0.08475923695855953, 0.22352810970777237, 0.027802475456322008, 0.009095346317205278, 0.06003164902830126, 0.07098755259265169, 0.5185335636702035, 0.07715106216179814, 0.05958243417065987, 0.024425992610196838, 0.016777052937479022, 0.09579924914351445, 0.0272599726634101, 0.6858617203665809, 0.445578284106339, 0.003013551529649923, 0.02580198355353317, 0.035743116507972544, 0.13147535339723668, 0.0187871780977527, 0.013346976645070754, 0.021424913823134537, 0.007722049963048124, 0.20642824511858418, 0.085195385718032, 0.08700159792035272, 0.7660502110251257, 0.002886030247636301, 0.030871142093556878, 0.05915792048805267, 0.15980675424512114, 0.06646558296745912, 0.0215771496043133, 0.010726067849463602, 0.03282865072060132, 0.13702982937329422, 0.11758674588968866, 0.03198830972606338, 0.06015586987473244, 0.2100061690208375, 0.29192217656224184, 0.05542600058717889, 0.02317094001569907, 0.01620573568011664, 0.13908405720502484, 0.0058039531688600715, 0.0018235015691726744, 0.12258423830751344, 0.03979207527886404, 0.8435601201612916, 0.020834540644719325, 0.37584215509797575, 0.03016851154003612, 0.04263285623496257, 0.12529236745528816, 0.007178029975374989, 0.0006661789470122019, 0.5286288952518138, 0.20390915761772138, 0.948034271699312, 0.03554936751165898, 0.5637345658049361, 0.1364303154902513, 0.9002093877147164, 0.02005034989441698, 0.3612961600318619, 0.04736301328627974, 0.004778666972485446, 0.0021709268402809955, 0.10570410027410888, 0.09850625515064917, 0.8864353905221733, 0.3023707309275756, 0.12155427182840119, 0.05542541963803947, 0.7904836953913287, 0.1695097614615068, 0.6706885650233269, 0.06510331018854096, 0.008514108225742069, 0.096324907538997, 0.6562937441521172, 0.05097829844516037, 0.01920904712150125, 0.5873844257300345, 0.1095826113962331, 0.3380060802808607, 0.011572668669231774, 0.1350128399274816, 0.012155475762826959, 0.05194633445906633, 0.4144849099377645, 0.0018600624919238417, 0.03361411676611241, 0.006102431373854035, 0.10597513873403758, 0.5020100936065307, 0.005208276179760537, 0.06517272422781561, 0.8778150241399215, 0.06539411655796576, 0.030122239211424165, 0.27692626582219576, 0.18034703830212456, 0.06060647474044853, 0.001090508801302673, 0.7289271022962938, 0.03627458172668134, 0.939077431184475, 0.003559678339336581, 0.12209333033382468, 0.006708569646362743, 0.01677988678566817, 0.17635047604619236, 0.1251579839062669, 0.07422195288426796, 0.006540678852716074, 0.11031360248947393, 0.03579271487972566, 0.13860055617125766, 0.11984879328477026, 0.014240955985097664, 0.05829416222383292, 0.2480355593064134, 0.009946704501810674, 0.1363569148509692, 0.003290266130917578, 0.6430957648627442, 0.0013093963752049559, 0.012656091274382253, 0.07555446990872361, 0.5506792724127259, 0.023100172538189065, 0.0014497924782650364, 0.01520787895621421, 0.01842983219338924, 0.8161224063087054, 0.052911616561622195, 0.12406964722186221, 0.04374625323616458, 0.8866552249157915, 0.0003919355517770381, 0.38950499876567, 0.06963746103800361, 0.010406597166371196, 0.9320937933813636, 0.044612495814905666, 0.13699736492371398, 0.004416508846016221, 0.11520003937307442, 0.45523666241586724, 0.003668859208520975, 0.11005642948124131, 0.11853049190679518, 0.017798742708453205, 0.39766064111548066, 0.01620209946782253, 0.1168547629800412, 0.9743624860722975, 0.15276180850986532, 0.02096200048278506, 0.04571622366288248, 0.4714442383007135, 0.618115992405941, 0.1412513146436004, 0.017972099929145235, 0.013698666654619714, 0.021020552194071708, 0.09989376105381689, 0.006564642099834335, 0.07915641726208911, 0.0007938993676194941, 0.007552133660960189, 0.6459042927489671, 0.5933947234252956, 0.2967705590225992, 0.5059420014499976, 0.01891143864109306, 0.17658804408435758, 0.08378009578704963, 0.00474244024368963, 0.045884101054184945, 0.02379522102806093, 0.0002640801089002713, 0.037255221856918944, 0.8810482421444104, 0.027808239712015386, 0.0516518409044604, 0.024036635958749015, 0.23445996529909638, 0.045284009153676766, 0.2400766735073275, 0.12418883941444821, 0.005272428355908607, 0.003345793106638024, 0.11207229683723965, 0.006521286877630729, 0.1655835501133832, 0.058586723218031725, 0.07433685651161225, 0.032402610323303015, 0.01563315853898444, 0.012349921289038661, 0.011467144914651667, 0.05219117627309711, 0.18548306976398393, 0.03524524938476969, 0.40327113632509365, 0.3573104342498756, 0.0008082730692183695, 0.07404200893480604, 0.19152742592851052, 0.03757116547512876, 0.0304196477524282, 0.08394282384820176, 0.05080761213613485, 0.007124539035521975, 0.0180692024177488, 0.07403273651962901, 0.00681982201964295, 0.02471886237901664, 0.13857155881069294, 0.01946462274200468, 0.4139657850651758, 0.10535515800690042, 0.04096261502905534, 0.06631090169242082, 0.13873396336903343, 0.06938483694904993, 0.012465999911420894, 0.2763668782463241, 0.9913640733653111, 0.1022428308969439, 0.010441725304331725, 0.014514990227976988, 0.04450522486350728, 0.07638950710694897, 0.22836623993069746, 0.33330151495214966, 0.020464290911877736, 0.7002667000304414, 0.022925247902498995, 0.18187675259816283, 0.6973349310216231, 0.0373746887787619, 0.17156670717031544, 0.4123898458919108, 0.03521379731969031, 0.025755065774227693, 0.0004260448231160386, 0.008580491058392915, 0.6453325138150581, 0.010640707092197986, 0.9804678665831023, 0.3328300706761185, 0.021598057250731332, 0.8271613777887201, 0.007580635965587668, 0.6790984154109617, 0.3648873526660618, 0.33090144015143796, 0.03226625242364091, 0.011339646022313752, 0.009425291192255618, 0.1646222096395941, 0.015516628263996895, 0.913214991717324, 0.01835253492917461, 0.42201850061627233, 0.8422098710648254, 0.04718245131367837, 0.08870419673775105], \"name\": \"predicted y probabilties\"}, {\"x\": [0, 1, 2, 3, 4, 5, 6, 7, 8, 9, 10, 11, 12, 13, 14, 15, 16, 17, 18, 19, 20, 21, 22, 23, 24, 25, 26, 27, 28, 29, 30, 31, 32, 33, 34, 35, 36, 37, 38, 39, 40, 41, 42, 43, 44, 45, 46, 47, 48, 49, 50, 51, 52, 53, 54, 55, 56, 57, 58, 59, 60, 61, 62, 63, 64, 65, 66, 67, 68, 69, 70, 71, 72, 73, 74, 75, 76, 77, 78, 79, 80, 81, 82, 83, 84, 85, 86, 87, 88, 89, 90, 91, 92, 93, 94, 95, 96, 97, 98, 99, 100, 101, 102, 103, 104, 105, 106, 107, 108, 109, 110, 111, 112, 113, 114, 115, 116, 117, 118, 119, 120, 121, 122, 123, 124, 125, 126, 127, 128, 129, 130, 131, 132, 133, 134, 135, 136, 137, 138, 139, 140, 141, 142, 143, 144, 145, 146, 147, 148, 149, 150, 151, 152, 153, 154, 155, 156, 157, 158, 159, 160, 161, 162, 163, 164, 165, 166, 167, 168, 169, 170, 171, 172, 173, 174, 175, 176, 177, 178, 179, 180, 181, 182, 183, 184, 185, 186, 187, 188, 189, 190, 191, 192, 193, 194, 195, 196, 197, 198, 199, 200, 201, 202, 203, 204, 205, 206, 207, 208, 209, 210, 211, 212, 213, 214, 215, 216, 217, 218, 219, 220, 221, 222, 223, 224, 225, 226, 227, 228, 229, 230, 231, 232, 233, 234, 235, 236, 237, 238, 239, 240, 241, 242, 243, 244, 245, 246, 247, 248, 249, 250, 251, 252, 253, 254, 255, 256, 257, 258, 259, 260, 261, 262, 263, 264, 265, 266, 267, 268, 269, 270, 271, 272, 273, 274, 275, 276, 277, 278, 279, 280, 281, 282, 283, 284, 285, 286, 287, 288, 289, 290, 291, 292, 293, 294, 295, 296, 297, 298, 299, 300, 301, 302, 303, 304, 305, 306, 307, 308, 309, 310, 311, 312, 313, 314, 315, 316, 317, 318, 319, 320, 321, 322, 323, 324, 325, 326, 327, 328, 329, 330, 331, 332, 333, 334, 335, 336, 337, 338, 339, 340, 341, 342, 343, 344, 345, 346, 347, 348, 349, 350, 351, 352, 353, 354, 355, 356, 357, 358, 359, 360, 361, 362, 363, 364, 365, 366, 367, 368, 369, 370, 371, 372, 373, 374, 375, 376, 377, 378, 379, 380, 381, 382, 383, 384, 385, 386, 387, 388, 389, 390, 391, 392, 393, 394, 395, 396, 397, 398, 399, 400, 401, 402, 403, 404, 405, 406, 407, 408, 409, 410, 411, 412, 413, 414, 415, 416, 417, 418, 419, 420, 421, 422, 423, 424, 425, 426, 427, 428, 429, 430, 431, 432, 433, 434, 435, 436, 437, 438, 439, 440, 441, 442, 443, 444, 445, 446, 447, 448, 449, 450, 451, 452, 453, 454, 455, 456, 457, 458, 459, 460, 461, 462, 463, 464, 465, 466, 467, 468, 469, 470, 471, 472, 473, 474, 475, 476, 477, 478, 479, 480, 481, 482, 483, 484, 485, 486, 487, 488, 489, 490, 491, 492, 493, 494, 495, 496, 497, 498, 499], \"uid\": \"b9f2035b-e182-4bb1-ac94-f4fa48a3e667\", \"type\": \"scatter\", \"mode\": \"markers\", \"y\": [0.0, 0.0, 0.0, 1.0, 0.0, 0.0, 1.0, 0.0, 1.0, 0.0, 0.0, 1.0, 0.0, 0.0, 0.0, 0.0, 0.0, 0.0, 0.0, 0.0, 0.0, 1.0, 1.0, 0.0, 1.0, 0.0, 1.0, 0.0, 0.0, 0.0, 0.0, 0.0, 1.0, 0.0, 0.0, 0.0, 0.0, 1.0, 0.0, 0.0, 1.0, 0.0, 0.0, 0.0, 0.0, 1.0, 0.0, 0.0, 0.0, 0.0, 0.0, 0.0, 0.0, 0.0, 0.0, 0.0, 0.0, 0.0, 0.0, 0.0, 0.0, 0.0, 1.0, 0.0, 1.0, 0.0, 0.0, 0.0, 0.0, 1.0, 0.0, 0.0, 0.0, 0.0, 0.0, 0.0, 0.0, 0.0, 0.0, 0.0, 0.0, 1.0, 0.0, 0.0, 0.0, 0.0, 1.0, 0.0, 0.0, 0.0, 1.0, 0.0, 0.0, 0.0, 0.0, 0.0, 0.0, 0.0, 1.0, 0.0, 0.0, 0.0, 0.0, 1.0, 0.0, 0.0, 0.0, 0.0, 0.0, 0.0, 0.0, 0.0, 0.0, 1.0, 0.0, 0.0, 0.0, 1.0, 1.0, 0.0, 0.0, 0.0, 0.0, 0.0, 1.0, 1.0, 0.0, 0.0, 0.0, 0.0, 0.0, 0.0, 0.0, 0.0, 0.0, 1.0, 0.0, 0.0, 0.0, 1.0, 0.0, 0.0, 0.0, 1.0, 0.0, 1.0, 0.0, 1.0, 0.0, 0.0, 0.0, 0.0, 0.0, 1.0, 0.0, 0.0, 0.0, 0.0, 0.0, 0.0, 0.0, 0.0, 0.0, 0.0, 0.0, 0.0, 0.0, 0.0, 0.0, 0.0, 0.0, 0.0, 0.0, 0.0, 0.0, 0.0, 0.0, 0.0, 0.0, 0.0, 0.0, 0.0, 1.0, 1.0, 0.0, 1.0, 0.0, 0.0, 1.0, 1.0, 0.0, 0.0, 0.0, 0.0, 0.0, 1.0, 0.0, 0.0, 0.0, 0.0, 0.0, 0.0, 1.0, 0.0, 0.0, 0.0, 0.0, 0.0, 1.0, 1.0, 0.0, 0.0, 0.0, 1.0, 0.0, 0.0, 0.0, 0.0, 1.0, 0.0, 0.0, 0.0, 0.0, 1.0, 0.0, 0.0, 0.0, 0.0, 0.0, 0.0, 0.0, 0.0, 0.0, 0.0, 1.0, 0.0, 0.0, 0.0, 0.0, 0.0, 0.0, 1.0, 0.0, 0.0, 0.0, 0.0, 0.0, 0.0, 0.0, 0.0, 0.0, 0.0, 0.0, 0.0, 1.0, 0.0, 0.0, 0.0, 0.0, 0.0, 0.0, 0.0, 0.0, 0.0, 0.0, 0.0, 0.0, 0.0, 0.0, 0.0, 0.0, 0.0, 0.0, 0.0, 0.0, 0.0, 0.0, 1.0, 0.0, 0.0, 0.0, 0.0, 0.0, 0.0, 0.0, 1.0, 0.0, 1.0, 0.0, 1.0, 0.0, 1.0, 0.0, 0.0, 0.0, 0.0, 0.0, 0.0, 0.0, 1.0, 0.0, 0.0, 0.0, 1.0, 0.0, 1.0, 0.0, 0.0, 0.0, 1.0, 0.0, 0.0, 1.0, 0.0, 0.0, 0.0, 0.0, 0.0, 0.0, 0.0, 0.0, 0.0, 0.0, 0.0, 1.0, 0.0, 0.0, 1.0, 0.0, 0.0, 0.0, 0.0, 0.0, 0.0, 1.0, 0.0, 1.0, 0.0, 0.0, 0.0, 0.0, 0.0, 0.0, 0.0, 0.0, 0.0, 0.0, 0.0, 0.0, 0.0, 0.0, 0.0, 0.0, 0.0, 0.0, 1.0, 0.0, 0.0, 0.0, 1.0, 0.0, 0.0, 0.0, 0.0, 1.0, 0.0, 0.0, 0.0, 1.0, 0.0, 0.0, 0.0, 0.0, 1.0, 0.0, 0.0, 0.0, 0.0, 0.0, 0.0, 0.0, 0.0, 0.0, 0.0, 0.0, 0.0, 1.0, 0.0, 0.0, 0.0, 0.0, 1.0, 0.0, 0.0, 0.0, 0.0, 0.0, 0.0, 0.0, 0.0, 0.0, 1.0, 1.0, 0.0, 1.0, 0.0, 0.0, 0.0, 0.0, 0.0, 0.0, 0.0, 0.0, 1.0, 0.0, 0.0, 0.0, 0.0, 0.0, 0.0, 0.0, 0.0, 0.0, 0.0, 0.0, 0.0, 0.0, 0.0, 0.0, 0.0, 0.0, 0.0, 0.0, 0.0, 0.0, 0.0, 0.0, 0.0, 0.0, 0.0, 0.0, 0.0, 0.0, 0.0, 0.0, 0.0, 0.0, 0.0, 0.0, 0.0, 0.0, 0.0, 0.0, 0.0, 0.0, 0.0, 0.0, 0.0, 0.0, 1.0, 0.0, 0.0, 0.0, 0.0, 0.0, 0.0, 0.0, 0.0, 1.0, 0.0, 0.0, 1.0, 0.0, 0.0, 0.0, 0.0, 0.0, 0.0, 0.0, 1.0, 0.0, 1.0, 0.0, 0.0, 1.0, 0.0, 1.0, 0.0, 0.0, 0.0, 0.0, 0.0, 0.0, 0.0, 1.0, 0.0, 0.0, 1.0, 0.0, 0.0], \"name\": \"predicted y labels\"}], {\"title\": {\"text\": \"Y: Predicted Probabilties, Predicted Labels for the Test Dataset\"}}, {\"linkText\": \"Export to plot.ly\", \"plotlyServerURL\": \"https://plot.ly\", \"showLink\": false})});</script><script type=\"text/javascript\">window.addEventListener(\"resize\", function(){window._Plotly.Plots.resize(document.getElementById(\"009703d4-6444-41ae-8d6e-4f9067073e8b\"));});</script>"
      ],
      "text/vnd.plotly.v1+html": [
       "<div id=\"009703d4-6444-41ae-8d6e-4f9067073e8b\" style=\"height: 525px; width: 100%;\" class=\"plotly-graph-div\"></div><script type=\"text/javascript\">require([\"plotly\"], function(Plotly) { window.PLOTLYENV=window.PLOTLYENV || {};window.PLOTLYENV.BASE_URL=\"https://plot.ly\";Plotly.newPlot(\"009703d4-6444-41ae-8d6e-4f9067073e8b\", [{\"x\": [0, 1, 2, 3, 4, 5, 6, 7, 8, 9, 10, 11, 12, 13, 14, 15, 16, 17, 18, 19, 20, 21, 22, 23, 24, 25, 26, 27, 28, 29, 30, 31, 32, 33, 34, 35, 36, 37, 38, 39, 40, 41, 42, 43, 44, 45, 46, 47, 48, 49, 50, 51, 52, 53, 54, 55, 56, 57, 58, 59, 60, 61, 62, 63, 64, 65, 66, 67, 68, 69, 70, 71, 72, 73, 74, 75, 76, 77, 78, 79, 80, 81, 82, 83, 84, 85, 86, 87, 88, 89, 90, 91, 92, 93, 94, 95, 96, 97, 98, 99, 100, 101, 102, 103, 104, 105, 106, 107, 108, 109, 110, 111, 112, 113, 114, 115, 116, 117, 118, 119, 120, 121, 122, 123, 124, 125, 126, 127, 128, 129, 130, 131, 132, 133, 134, 135, 136, 137, 138, 139, 140, 141, 142, 143, 144, 145, 146, 147, 148, 149, 150, 151, 152, 153, 154, 155, 156, 157, 158, 159, 160, 161, 162, 163, 164, 165, 166, 167, 168, 169, 170, 171, 172, 173, 174, 175, 176, 177, 178, 179, 180, 181, 182, 183, 184, 185, 186, 187, 188, 189, 190, 191, 192, 193, 194, 195, 196, 197, 198, 199, 200, 201, 202, 203, 204, 205, 206, 207, 208, 209, 210, 211, 212, 213, 214, 215, 216, 217, 218, 219, 220, 221, 222, 223, 224, 225, 226, 227, 228, 229, 230, 231, 232, 233, 234, 235, 236, 237, 238, 239, 240, 241, 242, 243, 244, 245, 246, 247, 248, 249, 250, 251, 252, 253, 254, 255, 256, 257, 258, 259, 260, 261, 262, 263, 264, 265, 266, 267, 268, 269, 270, 271, 272, 273, 274, 275, 276, 277, 278, 279, 280, 281, 282, 283, 284, 285, 286, 287, 288, 289, 290, 291, 292, 293, 294, 295, 296, 297, 298, 299, 300, 301, 302, 303, 304, 305, 306, 307, 308, 309, 310, 311, 312, 313, 314, 315, 316, 317, 318, 319, 320, 321, 322, 323, 324, 325, 326, 327, 328, 329, 330, 331, 332, 333, 334, 335, 336, 337, 338, 339, 340, 341, 342, 343, 344, 345, 346, 347, 348, 349, 350, 351, 352, 353, 354, 355, 356, 357, 358, 359, 360, 361, 362, 363, 364, 365, 366, 367, 368, 369, 370, 371, 372, 373, 374, 375, 376, 377, 378, 379, 380, 381, 382, 383, 384, 385, 386, 387, 388, 389, 390, 391, 392, 393, 394, 395, 396, 397, 398, 399, 400, 401, 402, 403, 404, 405, 406, 407, 408, 409, 410, 411, 412, 413, 414, 415, 416, 417, 418, 419, 420, 421, 422, 423, 424, 425, 426, 427, 428, 429, 430, 431, 432, 433, 434, 435, 436, 437, 438, 439, 440, 441, 442, 443, 444, 445, 446, 447, 448, 449, 450, 451, 452, 453, 454, 455, 456, 457, 458, 459, 460, 461, 462, 463, 464, 465, 466, 467, 468, 469, 470, 471, 472, 473, 474, 475, 476, 477, 478, 479, 480, 481, 482, 483, 484, 485, 486, 487, 488, 489, 490, 491, 492, 493, 494, 495, 496, 497, 498, 499], \"uid\": \"8f9c8f6b-2f92-46bf-b99f-8105abdc31ee\", \"type\": \"scatter\", \"mode\": \"markers\", \"y\": [0.19700873607250755, 0.00017309043053989362, 0.04410057296710191, 0.8671061242704934, 0.01542632392904928, 0.06561182664805262, 0.5853930596222364, 0.0012476857580275289, 0.9874699014278583, 0.06026253794821699, 0.026516271930210375, 0.7351792716373529, 0.0020913689028659163, 0.16898197162783604, 0.020925829462963005, 0.007535002459018941, 0.022284865022361936, 0.003363263203021638, 0.014224131700392639, 0.33125051191081945, 0.09222571550868149, 0.9556412883123444, 0.7108164307811148, 0.09496859340396302, 0.961512170119288, 0.01397383933085855, 0.9437297879925636, 0.02694468149077384, 0.02276859536738307, 0.030009558955446845, 0.010565396353980638, 0.00739410025974175, 0.7542241434994307, 0.18511633759709709, 0.028703167314289853, 0.11091550600799399, 0.08310695425718843, 0.5380371225973172, 0.012573213815767786, 0.043554200539515434, 0.9307531168664438, 0.10858396904848575, 0.001442296803668162, 0.07653636915890144, 0.13842182715900195, 0.7988822405581353, 0.017451927415044064, 0.024404513947570556, 0.10886076226282544, 0.02218537831476813, 0.0044890486996131684, 0.01103584625032567, 0.025305832461757657, 0.008046153816148132, 0.02649533103144964, 0.06304830659230501, 0.005869799078124031, 0.0025780886180500114, 0.17586610001836933, 0.14944329942990103, 0.01668439788062717, 0.31143143759977104, 0.6671481858758417, 0.0017284098484369535, 0.7341929013390177, 0.3510644258398481, 0.012564691395562147, 0.3349897328301733, 0.08228461457026233, 0.9758449212942434, 0.04731443399066698, 0.009232831353996933, 0.01702505093898214, 0.3231121968140925, 0.03611973611171869, 0.00042572904923711435, 0.02430285753056599, 0.09665731302607154, 0.02365900655199439, 0.015251190059427036, 0.056737042439839784, 0.6113276732793188, 0.11248072491762243, 0.006886467872334293, 0.08152446390123146, 0.03169152056003241, 0.5253542789292721, 0.06181909911132735, 0.19901962268290752, 0.013529113428091759, 0.9701895754984705, 0.02349113835149, 0.012799619664070123, 0.08558362865436453, 0.009003781582919198, 0.005429651786440631, 0.0024197371042094643, 0.024508804764618357, 0.7341428259398199, 0.16336776112047746, 0.13523126297835938, 0.015062051572986618, 0.024767496788122366, 0.5576885090598104, 0.021773704304222374, 0.01622873917288509, 0.06336159206299663, 0.04897724513519192, 0.001156722163220663, 0.027800886061510297, 0.09856346484839654, 0.04105445422860434, 0.10028857600112631, 0.6108173622417598, 0.08527328945457115, 0.014816218594483031, 0.19898763657662766, 0.9709354047003111, 0.6085127031714559, 0.05645854225753185, 0.00026148379812814736, 0.14688649830461215, 0.021042301563900242, 0.03580919577171459, 0.8911466808362735, 0.8051760099849381, 0.03291115949757868, 0.041070580777355585, 0.21652649517948333, 0.11613577226787779, 0.05351663911230397, 0.07036421911290905, 0.47341263666941813, 0.0060565853114979435, 0.11280514938723052, 0.9698067863078723, 0.1582325014496948, 0.015222924631240094, 0.20845455171826227, 0.8112144166615449, 0.0018211345260065836, 0.0684325099383993, 0.01114874283948145, 0.613728091471187, 0.006746914859265783, 0.7509363437446014, 0.0038300570438547497, 0.708413351502093, 0.19225143098121772, 0.023729383957857658, 0.0032184791735537185, 0.17381354081118935, 0.09378634551475815, 0.6763062934759421, 0.10574802232324094, 0.29215374904888575, 0.06633293604097236, 0.03910732392400234, 0.06522336409496714, 0.18898378518680436, 0.06091497829188555, 0.11082371922056015, 0.0007235744645453042, 0.18426398900395327, 0.04615434780178035, 0.4922218249510631, 0.00279033738556775, 0.1622145866049419, 0.007449990867386388, 0.04142793674681841, 0.2886219057056402, 0.10200726293066593, 0.333598809491075, 0.011290822577863185, 0.018163240012714577, 0.03860217163801511, 0.016257989313648878, 0.08832696263934003, 0.11829906543469057, 0.029553571791705598, 0.13353616964270368, 0.38784289158502644, 0.5126043685423958, 0.7322038732053621, 0.05043163486476597, 0.6826538946072193, 0.016076746305687624, 0.0655454447214533, 0.9904716921386131, 0.6028001529714747, 0.020050135442275897, 0.0014481553789180306, 0.19973338459926618, 0.04351669252699192, 0.08035669519904262, 0.8827499016408288, 0.2774795697355835, 0.0008274080496339653, 0.006742159847333221, 0.028613414301712423, 0.004356044468327403, 0.06149652905912043, 0.572640444241066, 0.14832480940338577, 0.015572909559779814, 0.008114595858320538, 0.11125326792292135, 0.009098989133248206, 0.9927039096360828, 0.7425301303207628, 0.018498393686392306, 0.010701504571731685, 0.328064436802042, 0.9494342445249795, 0.02232952631740989, 0.038418964081952965, 0.015574180937717006, 0.0016545656547749072, 0.5968928710463302, 0.0026666998223614626, 0.22032731935884525, 0.0010091611737673906, 0.0009340486189660046, 0.6746104556681872, 0.004244098239860206, 0.07331071469941478, 0.011445222663570226, 0.0851505639743872, 0.08475923695855953, 0.22352810970777237, 0.027802475456322008, 0.009095346317205278, 0.06003164902830126, 0.07098755259265169, 0.5185335636702035, 0.07715106216179814, 0.05958243417065987, 0.024425992610196838, 0.016777052937479022, 0.09579924914351445, 0.0272599726634101, 0.6858617203665809, 0.445578284106339, 0.003013551529649923, 0.02580198355353317, 0.035743116507972544, 0.13147535339723668, 0.0187871780977527, 0.013346976645070754, 0.021424913823134537, 0.007722049963048124, 0.20642824511858418, 0.085195385718032, 0.08700159792035272, 0.7660502110251257, 0.002886030247636301, 0.030871142093556878, 0.05915792048805267, 0.15980675424512114, 0.06646558296745912, 0.0215771496043133, 0.010726067849463602, 0.03282865072060132, 0.13702982937329422, 0.11758674588968866, 0.03198830972606338, 0.06015586987473244, 0.2100061690208375, 0.29192217656224184, 0.05542600058717889, 0.02317094001569907, 0.01620573568011664, 0.13908405720502484, 0.0058039531688600715, 0.0018235015691726744, 0.12258423830751344, 0.03979207527886404, 0.8435601201612916, 0.020834540644719325, 0.37584215509797575, 0.03016851154003612, 0.04263285623496257, 0.12529236745528816, 0.007178029975374989, 0.0006661789470122019, 0.5286288952518138, 0.20390915761772138, 0.948034271699312, 0.03554936751165898, 0.5637345658049361, 0.1364303154902513, 0.9002093877147164, 0.02005034989441698, 0.3612961600318619, 0.04736301328627974, 0.004778666972485446, 0.0021709268402809955, 0.10570410027410888, 0.09850625515064917, 0.8864353905221733, 0.3023707309275756, 0.12155427182840119, 0.05542541963803947, 0.7904836953913287, 0.1695097614615068, 0.6706885650233269, 0.06510331018854096, 0.008514108225742069, 0.096324907538997, 0.6562937441521172, 0.05097829844516037, 0.01920904712150125, 0.5873844257300345, 0.1095826113962331, 0.3380060802808607, 0.011572668669231774, 0.1350128399274816, 0.012155475762826959, 0.05194633445906633, 0.4144849099377645, 0.0018600624919238417, 0.03361411676611241, 0.006102431373854035, 0.10597513873403758, 0.5020100936065307, 0.005208276179760537, 0.06517272422781561, 0.8778150241399215, 0.06539411655796576, 0.030122239211424165, 0.27692626582219576, 0.18034703830212456, 0.06060647474044853, 0.001090508801302673, 0.7289271022962938, 0.03627458172668134, 0.939077431184475, 0.003559678339336581, 0.12209333033382468, 0.006708569646362743, 0.01677988678566817, 0.17635047604619236, 0.1251579839062669, 0.07422195288426796, 0.006540678852716074, 0.11031360248947393, 0.03579271487972566, 0.13860055617125766, 0.11984879328477026, 0.014240955985097664, 0.05829416222383292, 0.2480355593064134, 0.009946704501810674, 0.1363569148509692, 0.003290266130917578, 0.6430957648627442, 0.0013093963752049559, 0.012656091274382253, 0.07555446990872361, 0.5506792724127259, 0.023100172538189065, 0.0014497924782650364, 0.01520787895621421, 0.01842983219338924, 0.8161224063087054, 0.052911616561622195, 0.12406964722186221, 0.04374625323616458, 0.8866552249157915, 0.0003919355517770381, 0.38950499876567, 0.06963746103800361, 0.010406597166371196, 0.9320937933813636, 0.044612495814905666, 0.13699736492371398, 0.004416508846016221, 0.11520003937307442, 0.45523666241586724, 0.003668859208520975, 0.11005642948124131, 0.11853049190679518, 0.017798742708453205, 0.39766064111548066, 0.01620209946782253, 0.1168547629800412, 0.9743624860722975, 0.15276180850986532, 0.02096200048278506, 0.04571622366288248, 0.4714442383007135, 0.618115992405941, 0.1412513146436004, 0.017972099929145235, 0.013698666654619714, 0.021020552194071708, 0.09989376105381689, 0.006564642099834335, 0.07915641726208911, 0.0007938993676194941, 0.007552133660960189, 0.6459042927489671, 0.5933947234252956, 0.2967705590225992, 0.5059420014499976, 0.01891143864109306, 0.17658804408435758, 0.08378009578704963, 0.00474244024368963, 0.045884101054184945, 0.02379522102806093, 0.0002640801089002713, 0.037255221856918944, 0.8810482421444104, 0.027808239712015386, 0.0516518409044604, 0.024036635958749015, 0.23445996529909638, 0.045284009153676766, 0.2400766735073275, 0.12418883941444821, 0.005272428355908607, 0.003345793106638024, 0.11207229683723965, 0.006521286877630729, 0.1655835501133832, 0.058586723218031725, 0.07433685651161225, 0.032402610323303015, 0.01563315853898444, 0.012349921289038661, 0.011467144914651667, 0.05219117627309711, 0.18548306976398393, 0.03524524938476969, 0.40327113632509365, 0.3573104342498756, 0.0008082730692183695, 0.07404200893480604, 0.19152742592851052, 0.03757116547512876, 0.0304196477524282, 0.08394282384820176, 0.05080761213613485, 0.007124539035521975, 0.0180692024177488, 0.07403273651962901, 0.00681982201964295, 0.02471886237901664, 0.13857155881069294, 0.01946462274200468, 0.4139657850651758, 0.10535515800690042, 0.04096261502905534, 0.06631090169242082, 0.13873396336903343, 0.06938483694904993, 0.012465999911420894, 0.2763668782463241, 0.9913640733653111, 0.1022428308969439, 0.010441725304331725, 0.014514990227976988, 0.04450522486350728, 0.07638950710694897, 0.22836623993069746, 0.33330151495214966, 0.020464290911877736, 0.7002667000304414, 0.022925247902498995, 0.18187675259816283, 0.6973349310216231, 0.0373746887787619, 0.17156670717031544, 0.4123898458919108, 0.03521379731969031, 0.025755065774227693, 0.0004260448231160386, 0.008580491058392915, 0.6453325138150581, 0.010640707092197986, 0.9804678665831023, 0.3328300706761185, 0.021598057250731332, 0.8271613777887201, 0.007580635965587668, 0.6790984154109617, 0.3648873526660618, 0.33090144015143796, 0.03226625242364091, 0.011339646022313752, 0.009425291192255618, 0.1646222096395941, 0.015516628263996895, 0.913214991717324, 0.01835253492917461, 0.42201850061627233, 0.8422098710648254, 0.04718245131367837, 0.08870419673775105], \"name\": \"predicted y probabilties\"}, {\"x\": [0, 1, 2, 3, 4, 5, 6, 7, 8, 9, 10, 11, 12, 13, 14, 15, 16, 17, 18, 19, 20, 21, 22, 23, 24, 25, 26, 27, 28, 29, 30, 31, 32, 33, 34, 35, 36, 37, 38, 39, 40, 41, 42, 43, 44, 45, 46, 47, 48, 49, 50, 51, 52, 53, 54, 55, 56, 57, 58, 59, 60, 61, 62, 63, 64, 65, 66, 67, 68, 69, 70, 71, 72, 73, 74, 75, 76, 77, 78, 79, 80, 81, 82, 83, 84, 85, 86, 87, 88, 89, 90, 91, 92, 93, 94, 95, 96, 97, 98, 99, 100, 101, 102, 103, 104, 105, 106, 107, 108, 109, 110, 111, 112, 113, 114, 115, 116, 117, 118, 119, 120, 121, 122, 123, 124, 125, 126, 127, 128, 129, 130, 131, 132, 133, 134, 135, 136, 137, 138, 139, 140, 141, 142, 143, 144, 145, 146, 147, 148, 149, 150, 151, 152, 153, 154, 155, 156, 157, 158, 159, 160, 161, 162, 163, 164, 165, 166, 167, 168, 169, 170, 171, 172, 173, 174, 175, 176, 177, 178, 179, 180, 181, 182, 183, 184, 185, 186, 187, 188, 189, 190, 191, 192, 193, 194, 195, 196, 197, 198, 199, 200, 201, 202, 203, 204, 205, 206, 207, 208, 209, 210, 211, 212, 213, 214, 215, 216, 217, 218, 219, 220, 221, 222, 223, 224, 225, 226, 227, 228, 229, 230, 231, 232, 233, 234, 235, 236, 237, 238, 239, 240, 241, 242, 243, 244, 245, 246, 247, 248, 249, 250, 251, 252, 253, 254, 255, 256, 257, 258, 259, 260, 261, 262, 263, 264, 265, 266, 267, 268, 269, 270, 271, 272, 273, 274, 275, 276, 277, 278, 279, 280, 281, 282, 283, 284, 285, 286, 287, 288, 289, 290, 291, 292, 293, 294, 295, 296, 297, 298, 299, 300, 301, 302, 303, 304, 305, 306, 307, 308, 309, 310, 311, 312, 313, 314, 315, 316, 317, 318, 319, 320, 321, 322, 323, 324, 325, 326, 327, 328, 329, 330, 331, 332, 333, 334, 335, 336, 337, 338, 339, 340, 341, 342, 343, 344, 345, 346, 347, 348, 349, 350, 351, 352, 353, 354, 355, 356, 357, 358, 359, 360, 361, 362, 363, 364, 365, 366, 367, 368, 369, 370, 371, 372, 373, 374, 375, 376, 377, 378, 379, 380, 381, 382, 383, 384, 385, 386, 387, 388, 389, 390, 391, 392, 393, 394, 395, 396, 397, 398, 399, 400, 401, 402, 403, 404, 405, 406, 407, 408, 409, 410, 411, 412, 413, 414, 415, 416, 417, 418, 419, 420, 421, 422, 423, 424, 425, 426, 427, 428, 429, 430, 431, 432, 433, 434, 435, 436, 437, 438, 439, 440, 441, 442, 443, 444, 445, 446, 447, 448, 449, 450, 451, 452, 453, 454, 455, 456, 457, 458, 459, 460, 461, 462, 463, 464, 465, 466, 467, 468, 469, 470, 471, 472, 473, 474, 475, 476, 477, 478, 479, 480, 481, 482, 483, 484, 485, 486, 487, 488, 489, 490, 491, 492, 493, 494, 495, 496, 497, 498, 499], \"uid\": \"b9f2035b-e182-4bb1-ac94-f4fa48a3e667\", \"type\": \"scatter\", \"mode\": \"markers\", \"y\": [0.0, 0.0, 0.0, 1.0, 0.0, 0.0, 1.0, 0.0, 1.0, 0.0, 0.0, 1.0, 0.0, 0.0, 0.0, 0.0, 0.0, 0.0, 0.0, 0.0, 0.0, 1.0, 1.0, 0.0, 1.0, 0.0, 1.0, 0.0, 0.0, 0.0, 0.0, 0.0, 1.0, 0.0, 0.0, 0.0, 0.0, 1.0, 0.0, 0.0, 1.0, 0.0, 0.0, 0.0, 0.0, 1.0, 0.0, 0.0, 0.0, 0.0, 0.0, 0.0, 0.0, 0.0, 0.0, 0.0, 0.0, 0.0, 0.0, 0.0, 0.0, 0.0, 1.0, 0.0, 1.0, 0.0, 0.0, 0.0, 0.0, 1.0, 0.0, 0.0, 0.0, 0.0, 0.0, 0.0, 0.0, 0.0, 0.0, 0.0, 0.0, 1.0, 0.0, 0.0, 0.0, 0.0, 1.0, 0.0, 0.0, 0.0, 1.0, 0.0, 0.0, 0.0, 0.0, 0.0, 0.0, 0.0, 1.0, 0.0, 0.0, 0.0, 0.0, 1.0, 0.0, 0.0, 0.0, 0.0, 0.0, 0.0, 0.0, 0.0, 0.0, 1.0, 0.0, 0.0, 0.0, 1.0, 1.0, 0.0, 0.0, 0.0, 0.0, 0.0, 1.0, 1.0, 0.0, 0.0, 0.0, 0.0, 0.0, 0.0, 0.0, 0.0, 0.0, 1.0, 0.0, 0.0, 0.0, 1.0, 0.0, 0.0, 0.0, 1.0, 0.0, 1.0, 0.0, 1.0, 0.0, 0.0, 0.0, 0.0, 0.0, 1.0, 0.0, 0.0, 0.0, 0.0, 0.0, 0.0, 0.0, 0.0, 0.0, 0.0, 0.0, 0.0, 0.0, 0.0, 0.0, 0.0, 0.0, 0.0, 0.0, 0.0, 0.0, 0.0, 0.0, 0.0, 0.0, 0.0, 0.0, 0.0, 1.0, 1.0, 0.0, 1.0, 0.0, 0.0, 1.0, 1.0, 0.0, 0.0, 0.0, 0.0, 0.0, 1.0, 0.0, 0.0, 0.0, 0.0, 0.0, 0.0, 1.0, 0.0, 0.0, 0.0, 0.0, 0.0, 1.0, 1.0, 0.0, 0.0, 0.0, 1.0, 0.0, 0.0, 0.0, 0.0, 1.0, 0.0, 0.0, 0.0, 0.0, 1.0, 0.0, 0.0, 0.0, 0.0, 0.0, 0.0, 0.0, 0.0, 0.0, 0.0, 1.0, 0.0, 0.0, 0.0, 0.0, 0.0, 0.0, 1.0, 0.0, 0.0, 0.0, 0.0, 0.0, 0.0, 0.0, 0.0, 0.0, 0.0, 0.0, 0.0, 1.0, 0.0, 0.0, 0.0, 0.0, 0.0, 0.0, 0.0, 0.0, 0.0, 0.0, 0.0, 0.0, 0.0, 0.0, 0.0, 0.0, 0.0, 0.0, 0.0, 0.0, 0.0, 0.0, 1.0, 0.0, 0.0, 0.0, 0.0, 0.0, 0.0, 0.0, 1.0, 0.0, 1.0, 0.0, 1.0, 0.0, 1.0, 0.0, 0.0, 0.0, 0.0, 0.0, 0.0, 0.0, 1.0, 0.0, 0.0, 0.0, 1.0, 0.0, 1.0, 0.0, 0.0, 0.0, 1.0, 0.0, 0.0, 1.0, 0.0, 0.0, 0.0, 0.0, 0.0, 0.0, 0.0, 0.0, 0.0, 0.0, 0.0, 1.0, 0.0, 0.0, 1.0, 0.0, 0.0, 0.0, 0.0, 0.0, 0.0, 1.0, 0.0, 1.0, 0.0, 0.0, 0.0, 0.0, 0.0, 0.0, 0.0, 0.0, 0.0, 0.0, 0.0, 0.0, 0.0, 0.0, 0.0, 0.0, 0.0, 0.0, 1.0, 0.0, 0.0, 0.0, 1.0, 0.0, 0.0, 0.0, 0.0, 1.0, 0.0, 0.0, 0.0, 1.0, 0.0, 0.0, 0.0, 0.0, 1.0, 0.0, 0.0, 0.0, 0.0, 0.0, 0.0, 0.0, 0.0, 0.0, 0.0, 0.0, 0.0, 1.0, 0.0, 0.0, 0.0, 0.0, 1.0, 0.0, 0.0, 0.0, 0.0, 0.0, 0.0, 0.0, 0.0, 0.0, 1.0, 1.0, 0.0, 1.0, 0.0, 0.0, 0.0, 0.0, 0.0, 0.0, 0.0, 0.0, 1.0, 0.0, 0.0, 0.0, 0.0, 0.0, 0.0, 0.0, 0.0, 0.0, 0.0, 0.0, 0.0, 0.0, 0.0, 0.0, 0.0, 0.0, 0.0, 0.0, 0.0, 0.0, 0.0, 0.0, 0.0, 0.0, 0.0, 0.0, 0.0, 0.0, 0.0, 0.0, 0.0, 0.0, 0.0, 0.0, 0.0, 0.0, 0.0, 0.0, 0.0, 0.0, 0.0, 0.0, 0.0, 0.0, 1.0, 0.0, 0.0, 0.0, 0.0, 0.0, 0.0, 0.0, 0.0, 1.0, 0.0, 0.0, 1.0, 0.0, 0.0, 0.0, 0.0, 0.0, 0.0, 0.0, 1.0, 0.0, 1.0, 0.0, 0.0, 1.0, 0.0, 1.0, 0.0, 0.0, 0.0, 0.0, 0.0, 0.0, 0.0, 1.0, 0.0, 0.0, 1.0, 0.0, 0.0], \"name\": \"predicted y labels\"}], {\"title\": {\"text\": \"Y: Predicted Probabilties, Predicted Labels for the Test Dataset\"}}, {\"linkText\": \"Export to plot.ly\", \"plotlyServerURL\": \"https://plot.ly\", \"showLink\": false})});</script><script type=\"text/javascript\">window.addEventListener(\"resize\", function(){window._Plotly.Plots.resize(document.getElementById(\"009703d4-6444-41ae-8d6e-4f9067073e8b\"));});</script>"
      ]
     },
     "metadata": {},
     "output_type": "display_data"
    }
   ],
   "source": [
    "# Create a plot to show the predicted y probabilties for the real test set\n",
    "num = 500\n",
    "\n",
    "# predicted y probabilties\n",
    "trace0 = go.Scatter(\n",
    "    x = [x for x in range(num)],\n",
    "    y = y_pred[:num].flatten(),\n",
    "    mode = 'markers',\n",
    "    name = 'predicted y probabilties'\n",
    ")\n",
    "\n",
    "# predicted y labels\n",
    "trace1 = go.Scatter(\n",
    "    x = [x for x in range(num)],\n",
    "    y = y_pred_labels[:num].flatten(),\n",
    "    mode = 'markers',\n",
    "    name = 'predicted y labels'\n",
    ")\n",
    "\n",
    "data = [trace0, trace1]\n",
    "\n",
    "title = 'Y: Predicted Probabilties, Predicted Labels for the Test Dataset'\n",
    "fig = go.Figure(data=data, layout = {'title':title})\n",
    "\n",
    "iplot(fig)\n",
    "pio.write_image(fig, plt_filepath+title+'.png')"
   ]
  },
  {
   "cell_type": "code",
   "execution_count": 68,
   "metadata": {},
   "outputs": [],
   "source": [
    "np.savetxt('data/results1.csv', y_pred.flatten(), delimiter=',')"
   ]
  }
 ],
 "metadata": {
  "kernelspec": {
   "display_name": "Python [conda env:mlbook]",
   "language": "python",
   "name": "conda-env-mlbook-py"
  },
  "language_info": {
   "codemirror_mode": {
    "name": "ipython",
    "version": 3
   },
   "file_extension": ".py",
   "mimetype": "text/x-python",
   "name": "python",
   "nbconvert_exporter": "python",
   "pygments_lexer": "ipython3",
   "version": "3.5.3"
  }
 },
 "nbformat": 4,
 "nbformat_minor": 2
}
